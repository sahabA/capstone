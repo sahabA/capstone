{
 "cells": [
  {
   "cell_type": "code",
   "execution_count": 2,
   "metadata": {
    "collapsed": true
   },
   "outputs": [],
   "source": [
    "import pandas as pd\n",
    "import matplotlib.pylab as plt\n",
    "from matplotlib.colors import LinearSegmentedColormap\n",
    "from matplotlib.lines import Line2D \n",
    "import numpy as np\n",
    "%matplotlib inline"
   ]
  },
  {
   "cell_type": "markdown",
   "metadata": {},
   "source": [
    "# PATIENTS\n",
    "\n",
    "Table source: CareVue and Metavision ICU databases.\n",
    "\n",
    "Table purpose: Contains all charted data for all patients.\n",
    "\n",
    "Number of rows: 46,520\n",
    "\n",
    "Links to:\n",
    "\n",
    "ADMISSIONS on SUBJECT_ID\n",
    "ICUSTAYS on SUBJECT_ID"
   ]
  },
  {
   "cell_type": "code",
   "execution_count": 3,
   "metadata": {
    "collapsed": false
   },
   "outputs": [],
   "source": [
    "patients =  pd.read_csv(\"Desktop/cap/PATIENTS.csv\")"
   ]
  },
  {
   "cell_type": "code",
   "execution_count": 10,
   "metadata": {
    "collapsed": false
   },
   "outputs": [
    {
     "data": {
      "text/html": [
       "<div>\n",
       "<table border=\"1\" class=\"dataframe\">\n",
       "  <thead>\n",
       "    <tr style=\"text-align: right;\">\n",
       "      <th></th>\n",
       "      <th>ROW_ID</th>\n",
       "      <th>SUBJECT_ID</th>\n",
       "      <th>GENDER</th>\n",
       "      <th>DOB</th>\n",
       "      <th>DOD</th>\n",
       "      <th>DOD_HOSP</th>\n",
       "      <th>DOD_SSN</th>\n",
       "      <th>EXPIRE_FLAG</th>\n",
       "    </tr>\n",
       "  </thead>\n",
       "  <tbody>\n",
       "    <tr>\n",
       "      <th>0</th>\n",
       "      <td>234</td>\n",
       "      <td>249</td>\n",
       "      <td>F</td>\n",
       "      <td>2075-03-13 00:00:00</td>\n",
       "      <td>NaN</td>\n",
       "      <td>NaN</td>\n",
       "      <td>NaN</td>\n",
       "      <td>0</td>\n",
       "    </tr>\n",
       "    <tr>\n",
       "      <th>1</th>\n",
       "      <td>235</td>\n",
       "      <td>250</td>\n",
       "      <td>F</td>\n",
       "      <td>2164-12-27 00:00:00</td>\n",
       "      <td>2188-11-22 00:00:00</td>\n",
       "      <td>2188-11-22 00:00:00</td>\n",
       "      <td>NaN</td>\n",
       "      <td>1</td>\n",
       "    </tr>\n",
       "    <tr>\n",
       "      <th>2</th>\n",
       "      <td>236</td>\n",
       "      <td>251</td>\n",
       "      <td>M</td>\n",
       "      <td>2090-03-15 00:00:00</td>\n",
       "      <td>NaN</td>\n",
       "      <td>NaN</td>\n",
       "      <td>NaN</td>\n",
       "      <td>0</td>\n",
       "    </tr>\n",
       "    <tr>\n",
       "      <th>3</th>\n",
       "      <td>237</td>\n",
       "      <td>252</td>\n",
       "      <td>M</td>\n",
       "      <td>2078-03-06 00:00:00</td>\n",
       "      <td>NaN</td>\n",
       "      <td>NaN</td>\n",
       "      <td>NaN</td>\n",
       "      <td>0</td>\n",
       "    </tr>\n",
       "  </tbody>\n",
       "</table>\n",
       "</div>"
      ],
      "text/plain": [
       "   ROW_ID  SUBJECT_ID GENDER                  DOB                  DOD  \\\n",
       "0     234         249      F  2075-03-13 00:00:00                  NaN   \n",
       "1     235         250      F  2164-12-27 00:00:00  2188-11-22 00:00:00   \n",
       "2     236         251      M  2090-03-15 00:00:00                  NaN   \n",
       "3     237         252      M  2078-03-06 00:00:00                  NaN   \n",
       "\n",
       "              DOD_HOSP DOD_SSN  EXPIRE_FLAG  \n",
       "0                  NaN     NaN            0  \n",
       "1  2188-11-22 00:00:00     NaN            1  \n",
       "2                  NaN     NaN            0  \n",
       "3                  NaN     NaN            0  "
      ]
     },
     "execution_count": 10,
     "metadata": {},
     "output_type": "execute_result"
    }
   ],
   "source": [
    "patients.head(4)"
   ]
  },
  {
   "cell_type": "code",
   "execution_count": 14,
   "metadata": {
    "collapsed": false
   },
   "outputs": [
    {
     "data": {
      "text/plain": [
       "0    30761\n",
       "1    15759\n",
       "Name: EXPIRE_FLAG, dtype: int64"
      ]
     },
     "execution_count": 14,
     "metadata": {},
     "output_type": "execute_result"
    }
   ],
   "source": [
    "patients.EXPIRE_FLAG.value_counts()"
   ]
  },
  {
   "cell_type": "code",
   "execution_count": 15,
   "metadata": {
    "collapsed": false
   },
   "outputs": [
    {
     "data": {
      "text/plain": [
       "M    26121\n",
       "F    20399\n",
       "Name: GENDER, dtype: int64"
      ]
     },
     "execution_count": 15,
     "metadata": {},
     "output_type": "execute_result"
    }
   ],
   "source": [
    "patients.GENDER.value_counts()"
   ]
  },
  {
   "cell_type": "code",
   "execution_count": 18,
   "metadata": {
    "collapsed": false
   },
   "outputs": [
    {
     "data": {
      "text/html": [
       "<div>\n",
       "<table border=\"1\" class=\"dataframe\">\n",
       "  <thead>\n",
       "    <tr>\n",
       "      <th></th>\n",
       "      <th colspan=\"2\" halign=\"left\">ROW_ID</th>\n",
       "    </tr>\n",
       "    <tr>\n",
       "      <th>EXPIRE_FLAG</th>\n",
       "      <th>0</th>\n",
       "      <th>1</th>\n",
       "    </tr>\n",
       "    <tr>\n",
       "      <th>GENDER</th>\n",
       "      <th></th>\n",
       "      <th></th>\n",
       "    </tr>\n",
       "  </thead>\n",
       "  <tbody>\n",
       "    <tr>\n",
       "      <th>F</th>\n",
       "      <td>13164</td>\n",
       "      <td>7235</td>\n",
       "    </tr>\n",
       "    <tr>\n",
       "      <th>M</th>\n",
       "      <td>17597</td>\n",
       "      <td>8524</td>\n",
       "    </tr>\n",
       "  </tbody>\n",
       "</table>\n",
       "</div>"
      ],
      "text/plain": [
       "            ROW_ID      \n",
       "EXPIRE_FLAG      0     1\n",
       "GENDER                  \n",
       "F            13164  7235\n",
       "M            17597  8524"
      ]
     },
     "execution_count": 18,
     "metadata": {},
     "output_type": "execute_result"
    }
   ],
   "source": [
    "table = pd.pivot_table(patients, index=['GENDER'], columns=['EXPIRE_FLAG'], values=['ROW_ID'], aggfunc=len, fill_value=0)\n",
    "table"
   ]
  },
  {
   "cell_type": "code",
   "execution_count": 21,
   "metadata": {
    "collapsed": false
   },
   "outputs": [
    {
     "data": {
      "text/html": [
       "<div>\n",
       "<table border=\"1\" class=\"dataframe\">\n",
       "  <thead>\n",
       "    <tr>\n",
       "      <th></th>\n",
       "      <th colspan=\"2\" halign=\"left\">ROW_ID</th>\n",
       "    </tr>\n",
       "    <tr>\n",
       "      <th>EXPIRE_FLAG</th>\n",
       "      <th>0</th>\n",
       "      <th>1</th>\n",
       "    </tr>\n",
       "    <tr>\n",
       "      <th>GENDER</th>\n",
       "      <th></th>\n",
       "      <th></th>\n",
       "    </tr>\n",
       "  </thead>\n",
       "  <tbody>\n",
       "    <tr>\n",
       "      <th>F</th>\n",
       "      <td>1.0</td>\n",
       "      <td>0.549605</td>\n",
       "    </tr>\n",
       "    <tr>\n",
       "      <th>M</th>\n",
       "      <td>1.0</td>\n",
       "      <td>0.484401</td>\n",
       "    </tr>\n",
       "  </tbody>\n",
       "</table>\n",
       "</div>"
      ],
      "text/plain": [
       "            ROW_ID          \n",
       "EXPIRE_FLAG      0         1\n",
       "GENDER                      \n",
       "F              1.0  0.549605\n",
       "M              1.0  0.484401"
      ]
     },
     "execution_count": 21,
     "metadata": {},
     "output_type": "execute_result"
    }
   ],
   "source": [
    "table2 = table.div( table.iloc[:,0], axis=0 )\n",
    "table2"
   ]
  },
  {
   "cell_type": "markdown",
   "metadata": {},
   "source": [
    "55% Female and 48% male  patients died"
   ]
  },
  {
   "cell_type": "code",
   "execution_count": 23,
   "metadata": {
    "collapsed": false
   },
   "outputs": [
    {
     "data": {
      "text/html": [
       "<div>\n",
       "<table border=\"1\" class=\"dataframe\">\n",
       "  <thead>\n",
       "    <tr>\n",
       "      <th></th>\n",
       "      <th colspan=\"2\" halign=\"left\">ROW_ID</th>\n",
       "    </tr>\n",
       "    <tr>\n",
       "      <th>EXPIRE_FLAG</th>\n",
       "      <th>0</th>\n",
       "      <th>1</th>\n",
       "    </tr>\n",
       "    <tr>\n",
       "      <th>GENDER</th>\n",
       "      <th></th>\n",
       "      <th></th>\n",
       "    </tr>\n",
       "  </thead>\n",
       "  <tbody>\n",
       "    <tr>\n",
       "      <th>F</th>\n",
       "      <td>28.297506</td>\n",
       "      <td>15.552451</td>\n",
       "    </tr>\n",
       "    <tr>\n",
       "      <th>M</th>\n",
       "      <td>37.826741</td>\n",
       "      <td>18.323302</td>\n",
       "    </tr>\n",
       "  </tbody>\n",
       "</table>\n",
       "</div>"
      ],
      "text/plain": [
       "                ROW_ID           \n",
       "EXPIRE_FLAG          0          1\n",
       "GENDER                           \n",
       "F            28.297506  15.552451\n",
       "M            37.826741  18.323302"
      ]
     },
     "execution_count": 23,
     "metadata": {},
     "output_type": "execute_result"
    }
   ],
   "source": [
    "r = 7235 + 13164 + 17597 + 8524\n",
    "table*100/r"
   ]
  },
  {
   "cell_type": "markdown",
   "metadata": {},
   "source": [
    "## DOB\n",
    "DOB is the date of birth of the given patient. Patients who are older than 89 years old at any time in the database have had their date of birth shifted to obscure their age and comply with HIPAA. The shift process was as follows: the patient’s age at their first admission was determined. The date of birth was then set to exactly 300 years before their first admission\n",
    "\n",
    "DOB has been shifted for patients older than 89. The median age for the patients whose date of birth was shifted is 91.4.\n",
    "\n",
    "### Note : Let's use 91.4 to sub for teh age of patients over 89."
   ]
  },
  {
   "cell_type": "code",
   "execution_count": 9,
   "metadata": {
    "collapsed": false
   },
   "outputs": [],
   "source": [
    "admission =  pd.read_csv(\"Downloads/admissions.csv\")\n",
    "patientAdmitted = pd.merge(patients, admission, how='inner', on='SUBJECT_ID')"
   ]
  },
  {
   "cell_type": "code",
   "execution_count": 10,
   "metadata": {
    "collapsed": false
   },
   "outputs": [
    {
     "data": {
      "text/html": [
       "<div>\n",
       "<table border=\"1\" class=\"dataframe\">\n",
       "  <thead>\n",
       "    <tr style=\"text-align: right;\">\n",
       "      <th></th>\n",
       "      <th>ROW_ID_x</th>\n",
       "      <th>SUBJECT_ID</th>\n",
       "      <th>GENDER</th>\n",
       "      <th>DOB</th>\n",
       "      <th>DOD</th>\n",
       "      <th>DOD_HOSP</th>\n",
       "      <th>DOD_SSN</th>\n",
       "      <th>EXPIRE_FLAG</th>\n",
       "      <th>ROW_ID_y</th>\n",
       "      <th>HADM_ID</th>\n",
       "      <th>...</th>\n",
       "      <th>INSURANCE</th>\n",
       "      <th>LANGUAGE</th>\n",
       "      <th>RELIGION</th>\n",
       "      <th>MARITAL_STATUS</th>\n",
       "      <th>ETHNICITY</th>\n",
       "      <th>EDREGTIME</th>\n",
       "      <th>EDOUTTIME</th>\n",
       "      <th>DIAGNOSIS</th>\n",
       "      <th>HOSPITAL_EXPIRE_FLAG</th>\n",
       "      <th>HAS_CHARTEVENTS_DATA</th>\n",
       "    </tr>\n",
       "  </thead>\n",
       "  <tbody>\n",
       "    <tr>\n",
       "      <th>0</th>\n",
       "      <td>234</td>\n",
       "      <td>249</td>\n",
       "      <td>F</td>\n",
       "      <td>2075-03-13 00:00:00</td>\n",
       "      <td>NaN</td>\n",
       "      <td>NaN</td>\n",
       "      <td>NaN</td>\n",
       "      <td>0</td>\n",
       "      <td>321</td>\n",
       "      <td>116935</td>\n",
       "      <td>...</td>\n",
       "      <td>Medicare</td>\n",
       "      <td>NaN</td>\n",
       "      <td>CATHOLIC</td>\n",
       "      <td>DIVORCED</td>\n",
       "      <td>WHITE</td>\n",
       "      <td>2149-12-17 11:10:00</td>\n",
       "      <td>2149-12-17 21:35:00</td>\n",
       "      <td>UNSTABLE ANGINA;ASTHMA;BRONCHITIS</td>\n",
       "      <td>0</td>\n",
       "      <td>1</td>\n",
       "    </tr>\n",
       "    <tr>\n",
       "      <th>1</th>\n",
       "      <td>234</td>\n",
       "      <td>249</td>\n",
       "      <td>F</td>\n",
       "      <td>2075-03-13 00:00:00</td>\n",
       "      <td>NaN</td>\n",
       "      <td>NaN</td>\n",
       "      <td>NaN</td>\n",
       "      <td>0</td>\n",
       "      <td>322</td>\n",
       "      <td>149546</td>\n",
       "      <td>...</td>\n",
       "      <td>Medicare</td>\n",
       "      <td>ENGL</td>\n",
       "      <td>CATHOLIC</td>\n",
       "      <td>DIVORCED</td>\n",
       "      <td>WHITE</td>\n",
       "      <td>2155-02-03 17:43:00</td>\n",
       "      <td>2155-02-03 21:26:00</td>\n",
       "      <td>GI BLEED/ CHEST PAIN</td>\n",
       "      <td>0</td>\n",
       "      <td>1</td>\n",
       "    </tr>\n",
       "    <tr>\n",
       "      <th>2</th>\n",
       "      <td>234</td>\n",
       "      <td>249</td>\n",
       "      <td>F</td>\n",
       "      <td>2075-03-13 00:00:00</td>\n",
       "      <td>NaN</td>\n",
       "      <td>NaN</td>\n",
       "      <td>NaN</td>\n",
       "      <td>0</td>\n",
       "      <td>323</td>\n",
       "      <td>158975</td>\n",
       "      <td>...</td>\n",
       "      <td>Medicare</td>\n",
       "      <td>ENGL</td>\n",
       "      <td>CATHOLIC</td>\n",
       "      <td>DIVORCED</td>\n",
       "      <td>WHITE</td>\n",
       "      <td>NaN</td>\n",
       "      <td>NaN</td>\n",
       "      <td>GI BLEEDING\\COLONOSCOPY</td>\n",
       "      <td>0</td>\n",
       "      <td>1</td>\n",
       "    </tr>\n",
       "    <tr>\n",
       "      <th>3</th>\n",
       "      <td>235</td>\n",
       "      <td>250</td>\n",
       "      <td>F</td>\n",
       "      <td>2164-12-27 00:00:00</td>\n",
       "      <td>2188-11-22 00:00:00</td>\n",
       "      <td>2188-11-22 00:00:00</td>\n",
       "      <td>NaN</td>\n",
       "      <td>1</td>\n",
       "      <td>324</td>\n",
       "      <td>124271</td>\n",
       "      <td>...</td>\n",
       "      <td>Self Pay</td>\n",
       "      <td>HAIT</td>\n",
       "      <td>NOT SPECIFIED</td>\n",
       "      <td>SINGLE</td>\n",
       "      <td>BLACK/AFRICAN AMERICAN</td>\n",
       "      <td>2188-11-12 06:56:00</td>\n",
       "      <td>2188-11-12 10:10:00</td>\n",
       "      <td>PNEUMONIA;R/O TB</td>\n",
       "      <td>1</td>\n",
       "      <td>1</td>\n",
       "    </tr>\n",
       "    <tr>\n",
       "      <th>4</th>\n",
       "      <td>236</td>\n",
       "      <td>251</td>\n",
       "      <td>M</td>\n",
       "      <td>2090-03-15 00:00:00</td>\n",
       "      <td>NaN</td>\n",
       "      <td>NaN</td>\n",
       "      <td>NaN</td>\n",
       "      <td>0</td>\n",
       "      <td>325</td>\n",
       "      <td>117937</td>\n",
       "      <td>...</td>\n",
       "      <td>Private</td>\n",
       "      <td>NaN</td>\n",
       "      <td>OTHER</td>\n",
       "      <td>NaN</td>\n",
       "      <td>UNKNOWN/NOT SPECIFIED</td>\n",
       "      <td>2110-07-27 05:00:00</td>\n",
       "      <td>2110-07-27 07:15:00</td>\n",
       "      <td>INTRACRANIAL HEAD BLEED</td>\n",
       "      <td>0</td>\n",
       "      <td>1</td>\n",
       "    </tr>\n",
       "  </tbody>\n",
       "</table>\n",
       "<p>5 rows × 26 columns</p>\n",
       "</div>"
      ],
      "text/plain": [
       "   ROW_ID_x  SUBJECT_ID GENDER                  DOB                  DOD  \\\n",
       "0       234         249      F  2075-03-13 00:00:00                  NaN   \n",
       "1       234         249      F  2075-03-13 00:00:00                  NaN   \n",
       "2       234         249      F  2075-03-13 00:00:00                  NaN   \n",
       "3       235         250      F  2164-12-27 00:00:00  2188-11-22 00:00:00   \n",
       "4       236         251      M  2090-03-15 00:00:00                  NaN   \n",
       "\n",
       "              DOD_HOSP DOD_SSN  EXPIRE_FLAG  ROW_ID_y  HADM_ID  \\\n",
       "0                  NaN     NaN            0       321   116935   \n",
       "1                  NaN     NaN            0       322   149546   \n",
       "2                  NaN     NaN            0       323   158975   \n",
       "3  2188-11-22 00:00:00     NaN            1       324   124271   \n",
       "4                  NaN     NaN            0       325   117937   \n",
       "\n",
       "          ...          INSURANCE LANGUAGE       RELIGION MARITAL_STATUS  \\\n",
       "0         ...           Medicare      NaN       CATHOLIC       DIVORCED   \n",
       "1         ...           Medicare     ENGL       CATHOLIC       DIVORCED   \n",
       "2         ...           Medicare     ENGL       CATHOLIC       DIVORCED   \n",
       "3         ...           Self Pay     HAIT  NOT SPECIFIED         SINGLE   \n",
       "4         ...            Private      NaN          OTHER            NaN   \n",
       "\n",
       "                ETHNICITY            EDREGTIME            EDOUTTIME  \\\n",
       "0                   WHITE  2149-12-17 11:10:00  2149-12-17 21:35:00   \n",
       "1                   WHITE  2155-02-03 17:43:00  2155-02-03 21:26:00   \n",
       "2                   WHITE                  NaN                  NaN   \n",
       "3  BLACK/AFRICAN AMERICAN  2188-11-12 06:56:00  2188-11-12 10:10:00   \n",
       "4   UNKNOWN/NOT SPECIFIED  2110-07-27 05:00:00  2110-07-27 07:15:00   \n",
       "\n",
       "                           DIAGNOSIS HOSPITAL_EXPIRE_FLAG HAS_CHARTEVENTS_DATA  \n",
       "0  UNSTABLE ANGINA;ASTHMA;BRONCHITIS                    0                    1  \n",
       "1               GI BLEED/ CHEST PAIN                    0                    1  \n",
       "2            GI BLEEDING\\COLONOSCOPY                    0                    1  \n",
       "3                   PNEUMONIA;R/O TB                    1                    1  \n",
       "4            INTRACRANIAL HEAD BLEED                    0                    1  \n",
       "\n",
       "[5 rows x 26 columns]"
      ]
     },
     "execution_count": 10,
     "metadata": {},
     "output_type": "execute_result"
    }
   ],
   "source": [
    "patientAdmitted.head()"
   ]
  },
  {
   "cell_type": "code",
   "execution_count": 13,
   "metadata": {
    "collapsed": false
   },
   "outputs": [],
   "source": [
    "del patientAdmitted['ROW_ID_x']\n",
    "del patientAdmitted['ROW_ID_y']"
   ]
  },
  {
   "cell_type": "code",
   "execution_count": 15,
   "metadata": {
    "collapsed": false
   },
   "outputs": [
    {
     "data": {
      "text/plain": [
       "NEWBORN                                                                                             7823\n",
       "PNEUMONIA                                                                                           1566\n",
       "SEPSIS                                                                                              1184\n",
       "CONGESTIVE HEART FAILURE                                                                             928\n",
       "CORONARY ARTERY DISEASE                                                                              840\n",
       "CHEST PAIN                                                                                           778\n",
       "INTRACRANIAL HEMORRHAGE                                                                              713\n",
       "ALTERED MENTAL STATUS                                                                                712\n",
       "GASTROINTESTINAL BLEED                                                                               686\n",
       "CORONARY ARTERY DISEASE\\CORONARY ARTERY BYPASS GRAFT /SDA                                            583\n",
       "UPPER GI BLEED                                                                                       580\n",
       "ABDOMINAL PAIN                                                                                       554\n",
       "FEVER                                                                                                510\n",
       "DIABETIC KETOACIDOSIS                                                                                462\n",
       "CORONARY ARTERY DISEASE\\CORONARY ARTERY BYPASS GRAFT/SDA                                             450\n",
       "S/P FALL                                                                                             444\n",
       "LOWER GI BLEED                                                                                       442\n",
       "SUBARACHNOID HEMORRHAGE                                                                              440\n",
       "HYPOTENSION                                                                                          416\n",
       "STROKE;TELEMETRY;TRANSIENT ISCHEMIC ATTACK                                                           341\n",
       "SEIZURE                                                                                              297\n",
       "ACUTE RENAL FAILURE                                                                                  270\n",
       "SUBDURAL HEMATOMA                                                                                    260\n",
       "PANCREATITIS                                                                                         250\n",
       "RESPIRATORY FAILURE                                                                                  247\n",
       "S/P MOTOR VEHICLE ACCIDENT                                                                           241\n",
       "DYSPNEA                                                                                              232\n",
       "SHORTNESS OF BREATH                                                                                  229\n",
       "CORONARY ARTERY DISEASE\\CATH                                                                         227\n",
       "ACUTE CORONARY SYNDROME                                                                              225\n",
       "                                                                                                    ... \n",
       "TACHYCARDIA-INR 22                                                                                     1\n",
       "DUODENAL FOREIGN BODY                                                                                  1\n",
       "TRACHEOSTOMY EVALUATION                                                                                1\n",
       "CELLULITIS;R/O DKA;AXILLARY ABSCESS                                                                    1\n",
       "RULE-OUT PULMONARY EMBOLIS;CHRONIC OBST PULM DISEASE                                                   1\n",
       "A- FLUTTER                                                                                             1\n",
       "MALIGNANT MELANOMA; SEIZURES                                                                           1\n",
       "ESOPHAGEAL MASS\\EUS                                                                                    1\n",
       "PNEUMONIA;HEART MURMUR                                                                                 1\n",
       "S/P LIVER TRANSPLANT;R/O CMV                                                                           1\n",
       "DYSPNEA,NAUSEA,VOMITING                                                                                1\n",
       "CONGESTIVE HEART FAILURE;ABDOMINAL PAIN                                                                1\n",
       "CORONARY ARTERY DISEASE\\CARDIAC CATH;PLANNED CORONARY ANGIOPLASTY;STENT PLACEMENT                      1\n",
       "RECURRENT SYMPTOMATIC BRADYCARDIA                                                                      1\n",
       "ANXIETY\\BYPASS FEMORAL PEDAL ARTERY GRAFT; LEFT                                                        1\n",
       "CHRONIC RENAL FAILURE\\ INSERTION PERMACATH W/C-ARM RIGHT INTERNAL JUGULAR/SDA                          1\n",
       "CEREBELLAR STROKE                                                                                      1\n",
       "CORONARY ARTERY DISEASE\\BENTAL PROCEDURE; CORONARY ARTERY BYPASS GRAFT /SDA                            1\n",
       "ACUTE LEUKEMIC CRISIS                                                                                  1\n",
       "S/P ERCP W/ SPHINCTOROTOMY                                                                             1\n",
       "VENTRAL HERNIA, ABDOMINAL PANNUS                                                                       1\n",
       "NON-ST SEGMENT ELEVATION MYOCARDIAL INFARCTION;PERIPHERAL VASCULAR DISEASE;ISCHEMIA\\CARDIAC CATH       1\n",
       "PNEUMOTHORAX;PEA ARREST                                                                                1\n",
       "RETROPHARYNGEAL PHLEGMON\\TELEMETRY                                                                     1\n",
       "SHOCK; RHABDOMYOLSIS; RF/SDA                                                                           1\n",
       "ACUTE KIDNEY FAILURE;HYPERKALEMIA                                                                      1\n",
       "NEWLY DIAGNOSED BRAIN MASS;LACKS CAPACITY                                                              1\n",
       "CODE SEPISI                                                                                            1\n",
       "WOUND INFECTION;TELEMETRY                                                                              1\n",
       "SPINAL LESION                                                                                          1\n",
       "Name: DIAGNOSIS, dtype: int64"
      ]
     },
     "execution_count": 15,
     "metadata": {},
     "output_type": "execute_result"
    }
   ],
   "source": [
    "patientAdmitted['DIAGNOSIS'].value_counts()"
   ]
  },
  {
   "cell_type": "code",
   "execution_count": 7,
   "metadata": {
    "collapsed": false
   },
   "outputs": [
    {
     "ename": "AttributeError",
     "evalue": "'DataFrame' object has no attribute 'to_datetime'",
     "output_type": "error",
     "traceback": [
      "\u001b[1;31m---------------------------------------------------------------------------\u001b[0m",
      "\u001b[1;31mAttributeError\u001b[0m                            Traceback (most recent call last)",
      "\u001b[1;32m<ipython-input-7-ae1b3438a237>\u001b[0m in \u001b[0;36m<module>\u001b[1;34m()\u001b[0m\n\u001b[1;32m----> 1\u001b[1;33m \u001b[0mpatients\u001b[0m\u001b[1;33m[\u001b[0m\u001b[1;34m'AGE'\u001b[0m\u001b[1;33m]\u001b[0m \u001b[1;33m=\u001b[0m \u001b[1;33m(\u001b[0m\u001b[1;33m(\u001b[0m\u001b[0mpatients\u001b[0m\u001b[1;33m.\u001b[0m\u001b[0mto_datetime\u001b[0m\u001b[1;33m(\u001b[0m\u001b[0madmission\u001b[0m\u001b[1;33m[\u001b[0m\u001b[1;34m'INTIME'\u001b[0m\u001b[1;33m]\u001b[0m\u001b[1;33m)\u001b[0m \u001b[1;33m-\u001b[0m \u001b[0mpd\u001b[0m\u001b[1;33m.\u001b[0m\u001b[0mto_datetime\u001b[0m\u001b[1;33m(\u001b[0m\u001b[0mdf\u001b[0m\u001b[1;33m[\u001b[0m\u001b[1;34m'DOB'\u001b[0m\u001b[1;33m]\u001b[0m\u001b[1;33m)\u001b[0m\u001b[1;33m)\u001b[0m\u001b[1;33m)\u001b[0m \u001b[1;33m/\u001b[0m \u001b[0mnp\u001b[0m\u001b[1;33m.\u001b[0m\u001b[0mtimedelta64\u001b[0m\u001b[1;33m(\u001b[0m\u001b[1;36m1\u001b[0m\u001b[1;33m,\u001b[0m \u001b[1;34m's'\u001b[0m\u001b[1;33m)\u001b[0m \u001b[1;33m/\u001b[0m \u001b[1;36m3600\u001b[0m \u001b[1;33m/\u001b[0m \u001b[1;36m24\u001b[0m\u001b[1;33m\u001b[0m\u001b[0m\n\u001b[0m",
      "\u001b[1;32mC:\\Users\\Sahab\\Anaconda2\\lib\\site-packages\\pandas\\core\\generic.pyc\u001b[0m in \u001b[0;36m__getattr__\u001b[1;34m(self, name)\u001b[0m\n\u001b[0;32m   2670\u001b[0m             \u001b[1;32mif\u001b[0m \u001b[0mname\u001b[0m \u001b[1;32min\u001b[0m \u001b[0mself\u001b[0m\u001b[1;33m.\u001b[0m\u001b[0m_info_axis\u001b[0m\u001b[1;33m:\u001b[0m\u001b[1;33m\u001b[0m\u001b[0m\n\u001b[0;32m   2671\u001b[0m                 \u001b[1;32mreturn\u001b[0m \u001b[0mself\u001b[0m\u001b[1;33m[\u001b[0m\u001b[0mname\u001b[0m\u001b[1;33m]\u001b[0m\u001b[1;33m\u001b[0m\u001b[0m\n\u001b[1;32m-> 2672\u001b[1;33m             \u001b[1;32mreturn\u001b[0m \u001b[0mobject\u001b[0m\u001b[1;33m.\u001b[0m\u001b[0m__getattribute__\u001b[0m\u001b[1;33m(\u001b[0m\u001b[0mself\u001b[0m\u001b[1;33m,\u001b[0m \u001b[0mname\u001b[0m\u001b[1;33m)\u001b[0m\u001b[1;33m\u001b[0m\u001b[0m\n\u001b[0m\u001b[0;32m   2673\u001b[0m \u001b[1;33m\u001b[0m\u001b[0m\n\u001b[0;32m   2674\u001b[0m     \u001b[1;32mdef\u001b[0m \u001b[0m__setattr__\u001b[0m\u001b[1;33m(\u001b[0m\u001b[0mself\u001b[0m\u001b[1;33m,\u001b[0m \u001b[0mname\u001b[0m\u001b[1;33m,\u001b[0m \u001b[0mvalue\u001b[0m\u001b[1;33m)\u001b[0m\u001b[1;33m:\u001b[0m\u001b[1;33m\u001b[0m\u001b[0m\n",
      "\u001b[1;31mAttributeError\u001b[0m: 'DataFrame' object has no attribute 'to_datetime'"
     ]
    }
   ],
   "source": [
    "patients['AGE'] = ((patients.to_datetime(admission['INTIME']) - pd.to_datetime(df['DOB']))) / np.timedelta64(1, 's') / 3600 / 24"
   ]
  },
  {
   "cell_type": "markdown",
   "metadata": {},
   "source": [
    "Detailed Description\n",
    "\n",
    "SUBJECT_ID\n",
    "\n",
    "SUBJECT_ID is a unique identifier which specifies an individual patient. SUBJECT_ID is a candidate key for the table, so is unique for each row. Information that is consistent for the lifetime of a patient is stored in this table.\n",
    "\n",
    "GENDER\n",
    "\n",
    "GENDER is the genotypical sex of the patient.\n",
    "\n",
    "DOB\n",
    "\n",
    "DOB is the date of birth of the given patient. Patients who are older than 89 years old at any time in the database have had their date of birth shifted to obscure their age and comply with HIPAA. The shift process was as follows: the patient’s age at their first admission was determined. The date of birth was then set to exactly 300 years before their first admission.\n",
    "DOD, DOD_HOSP, DOD_SSN\n",
    "\n",
    "DOD is the date of death for the given patient. DOD_HOSP is the date of death as recorded in the hospital database. DOD_SSN is the date of death from the social security database. Note that DOD merged together DOD_HOSP and DOD_SSN, giving priority to DOD_HOSP if both were recorded.\n",
    "\n",
    "EXPIRE_FLAG\n",
    "\n",
    "EXPIRE_FLAG is a binary flag which indicates whether the patient died, i.e. whether DOD is null or not. These deaths include both deaths within the hospital (DOD_HOSP) and deaths identified by matching the patient to the social security master death index (DOD_SSN)."
   ]
  },
  {
   "cell_type": "code",
   "execution_count": null,
   "metadata": {
    "collapsed": true
   },
   "outputs": [],
   "source": []
  }
 ],
 "metadata": {
  "anaconda-cloud": {},
  "kernelspec": {
   "display_name": "Python [Root]",
   "language": "python",
   "name": "Python [Root]"
  },
  "language_info": {
   "codemirror_mode": {
    "name": "ipython",
    "version": 2
   },
   "file_extension": ".py",
   "mimetype": "text/x-python",
   "name": "python",
   "nbconvert_exporter": "python",
   "pygments_lexer": "ipython2",
   "version": "2.7.12"
  }
 },
 "nbformat": 4,
 "nbformat_minor": 0
}
