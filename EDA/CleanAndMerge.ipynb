{
 "cells": [
  {
   "cell_type": "code",
   "execution_count": 24,
   "metadata": {
    "collapsed": true
   },
   "outputs": [],
   "source": [
    "import pandas as pd\n",
    "import matplotlib.pylab as plt\n",
    "from matplotlib.colors import LinearSegmentedColormap\n",
    "from matplotlib.lines import Line2D \n",
    "import numpy as np\n",
    "%matplotlib inline\n",
    "\n",
    "admissions =  pd.read_csv(\"Downloads/ADMISSIONS.csv\")\n",
    "admissions['admTime'] = pd.to_datetime(admissions['ADMITTIME'])\n",
    "admissions['dischTime'] = pd.to_datetime(admissions['DISCHTIME'])\n",
    "admissions['deathTime'] = pd.to_datetime(admissions['DEATHTIME'])\n",
    "admissions['losDays'] = admissions['dischTime'] - admissions['admTime']\n",
    "admissions['los'] = admissions['losDays'] / np.timedelta64(1, 'D')\n",
    "# @todo research Should we round it to floor or ceil??\n",
    "admissions['losRound'] = np.round(admissions['losDays'] / np.timedelta64(1, 'D'))\n",
    "admissions['regTime'] = pd.to_datetime(admissions['EDREGTIME'])\n",
    "admissions['outTime'] = pd.to_datetime(admissions['EDOUTTIME'])\n",
    "#admissions['totalTimeStay'] =  np.round((admissions['outTime'] - admissions['regTime'])/np.timedelta64(1, 'D'))\n",
    "admissions['totalTimeStay'] =  np.round((admissions['outTime'] - admissions['regTime'])/np.timedelta64(1, 'h'))"
   ]
  },
  {
   "cell_type": "markdown",
   "metadata": {},
   "source": [
    "Steps:\n",
    "    \n",
    "    1) clean organ donors : Find all patients with negative length of stay    \n",
    "    \n",
    "    2) Get rid of newborn admission type (reduce ? number of rows)\n",
    "    \n",
    "    3) DEATHTIME is only present if the patient died in-hospital, and is almost always the same as the patient’s DISCHTIME.\n",
    "    \n",
    "    Let's  mark which patient died in hospital and who died outside (binary)    \n",
    "    \n",
    "    4) Combine urgent and emergency -> Only two types of admissions left remaining\n"
   ]
  },
  {
   "cell_type": "markdown",
   "metadata": {},
   "source": [
    "## 1) clean organ donors : Find all patients with negative length of stay"
   ]
  },
  {
   "cell_type": "code",
   "execution_count": 25,
   "metadata": {
    "collapsed": false
   },
   "outputs": [],
   "source": [
    "admissions = admissions[admissions[\"losRound\"] > 0] #### 16 people ## 3 are newborn :("
   ]
  },
  {
   "cell_type": "markdown",
   "metadata": {},
   "source": [
    "## 2) Get rid of newborn admission type"
   ]
  },
  {
   "cell_type": "code",
   "execution_count": 26,
   "metadata": {
    "collapsed": true
   },
   "outputs": [],
   "source": [
    "admissions = admissions[admissions[\"ADMISSION_TYPE\"] != 'NEWBORN']"
   ]
  },
  {
   "cell_type": "markdown",
   "metadata": {},
   "source": [
    "## 4) Combine urgent and emergency -> Only two types of admissions left remaining\n"
   ]
  },
  {
   "cell_type": "code",
   "execution_count": 27,
   "metadata": {
    "collapsed": false
   },
   "outputs": [],
   "source": [
    "#replace urgent with emergency\n",
    "admissions[\"ADMISSION_TYPE\"] = admissions[\"ADMISSION_TYPE\"].replace('URGENT', 'EMERGENCY')"
   ]
  },
  {
   "cell_type": "code",
   "execution_count": 28,
   "metadata": {
    "collapsed": false
   },
   "outputs": [
    {
     "data": {
      "text/html": [
       "<div>\n",
       "<table border=\"1\" class=\"dataframe\">\n",
       "  <thead>\n",
       "    <tr style=\"text-align: right;\">\n",
       "      <th></th>\n",
       "      <th>ROW_ID</th>\n",
       "      <th>SUBJECT_ID</th>\n",
       "      <th>HADM_ID</th>\n",
       "      <th>ADMITTIME</th>\n",
       "      <th>DISCHTIME</th>\n",
       "      <th>DEATHTIME</th>\n",
       "      <th>ADMISSION_TYPE</th>\n",
       "      <th>ADMISSION_LOCATION</th>\n",
       "      <th>DISCHARGE_LOCATION</th>\n",
       "      <th>INSURANCE</th>\n",
       "      <th>...</th>\n",
       "      <th>HAS_CHARTEVENTS_DATA</th>\n",
       "      <th>admTime</th>\n",
       "      <th>dischTime</th>\n",
       "      <th>deathTime</th>\n",
       "      <th>losDays</th>\n",
       "      <th>los</th>\n",
       "      <th>losRound</th>\n",
       "      <th>regTime</th>\n",
       "      <th>outTime</th>\n",
       "      <th>totalTimeStay</th>\n",
       "    </tr>\n",
       "  </thead>\n",
       "  <tbody>\n",
       "    <tr>\n",
       "      <th>69</th>\n",
       "      <td>67</td>\n",
       "      <td>67</td>\n",
       "      <td>186474</td>\n",
       "      <td>2155-02-25 12:45:00</td>\n",
       "      <td>2155-03-06 15:00:00</td>\n",
       "      <td>NaN</td>\n",
       "      <td>EMERGENCY</td>\n",
       "      <td>PHYS REFERRAL/NORMAL DELI</td>\n",
       "      <td>SNF</td>\n",
       "      <td>Medicare</td>\n",
       "      <td>...</td>\n",
       "      <td>0</td>\n",
       "      <td>2155-02-25 12:45:00</td>\n",
       "      <td>2155-03-06 15:00:00</td>\n",
       "      <td>NaT</td>\n",
       "      <td>9 days 02:15:00</td>\n",
       "      <td>9.093750</td>\n",
       "      <td>9.0</td>\n",
       "      <td>NaT</td>\n",
       "      <td>NaT</td>\n",
       "      <td>NaN</td>\n",
       "    </tr>\n",
       "    <tr>\n",
       "      <th>87</th>\n",
       "      <td>85</td>\n",
       "      <td>84</td>\n",
       "      <td>120969</td>\n",
       "      <td>2196-02-02 07:15:00</td>\n",
       "      <td>2196-02-04 17:48:00</td>\n",
       "      <td>NaN</td>\n",
       "      <td>ELECTIVE</td>\n",
       "      <td>PHYS REFERRAL/NORMAL DELI</td>\n",
       "      <td>HOME</td>\n",
       "      <td>Private</td>\n",
       "      <td>...</td>\n",
       "      <td>0</td>\n",
       "      <td>2196-02-02 07:15:00</td>\n",
       "      <td>2196-02-04 17:48:00</td>\n",
       "      <td>NaT</td>\n",
       "      <td>2 days 10:33:00</td>\n",
       "      <td>2.439583</td>\n",
       "      <td>2.0</td>\n",
       "      <td>NaT</td>\n",
       "      <td>NaT</td>\n",
       "      <td>NaN</td>\n",
       "    </tr>\n",
       "    <tr>\n",
       "      <th>143</th>\n",
       "      <td>182</td>\n",
       "      <td>135</td>\n",
       "      <td>199634</td>\n",
       "      <td>2174-05-17 09:00:00</td>\n",
       "      <td>2174-05-21 14:00:00</td>\n",
       "      <td>NaN</td>\n",
       "      <td>ELECTIVE</td>\n",
       "      <td>PHYS REFERRAL/NORMAL DELI</td>\n",
       "      <td>HOME HEALTH CARE</td>\n",
       "      <td>Private</td>\n",
       "      <td>...</td>\n",
       "      <td>0</td>\n",
       "      <td>2174-05-17 09:00:00</td>\n",
       "      <td>2174-05-21 14:00:00</td>\n",
       "      <td>NaT</td>\n",
       "      <td>4 days 05:00:00</td>\n",
       "      <td>4.208333</td>\n",
       "      <td>4.0</td>\n",
       "      <td>NaT</td>\n",
       "      <td>NaT</td>\n",
       "      <td>NaN</td>\n",
       "    </tr>\n",
       "    <tr>\n",
       "      <th>261</th>\n",
       "      <td>409</td>\n",
       "      <td>323</td>\n",
       "      <td>192631</td>\n",
       "      <td>2115-05-17 21:06:00</td>\n",
       "      <td>2115-05-27 13:30:00</td>\n",
       "      <td>NaN</td>\n",
       "      <td>EMERGENCY</td>\n",
       "      <td>EMERGENCY ROOM ADMIT</td>\n",
       "      <td>SHORT TERM HOSPITAL</td>\n",
       "      <td>Medicare</td>\n",
       "      <td>...</td>\n",
       "      <td>0</td>\n",
       "      <td>2115-05-17 21:06:00</td>\n",
       "      <td>2115-05-27 13:30:00</td>\n",
       "      <td>NaT</td>\n",
       "      <td>9 days 16:24:00</td>\n",
       "      <td>9.683333</td>\n",
       "      <td>10.0</td>\n",
       "      <td>2115-05-17 13:40:00</td>\n",
       "      <td>2115-05-17 22:37:00</td>\n",
       "      <td>9.0</td>\n",
       "    </tr>\n",
       "    <tr>\n",
       "      <th>272</th>\n",
       "      <td>420</td>\n",
       "      <td>330</td>\n",
       "      <td>184134</td>\n",
       "      <td>2132-01-15 07:15:00</td>\n",
       "      <td>2132-01-17 10:30:00</td>\n",
       "      <td>NaN</td>\n",
       "      <td>ELECTIVE</td>\n",
       "      <td>PHYS REFERRAL/NORMAL DELI</td>\n",
       "      <td>HOME</td>\n",
       "      <td>Private</td>\n",
       "      <td>...</td>\n",
       "      <td>0</td>\n",
       "      <td>2132-01-15 07:15:00</td>\n",
       "      <td>2132-01-17 10:30:00</td>\n",
       "      <td>NaT</td>\n",
       "      <td>2 days 03:15:00</td>\n",
       "      <td>2.135417</td>\n",
       "      <td>2.0</td>\n",
       "      <td>NaT</td>\n",
       "      <td>NaT</td>\n",
       "      <td>NaN</td>\n",
       "    </tr>\n",
       "  </tbody>\n",
       "</table>\n",
       "<p>5 rows × 28 columns</p>\n",
       "</div>"
      ],
      "text/plain": [
       "     ROW_ID  SUBJECT_ID  HADM_ID            ADMITTIME            DISCHTIME  \\\n",
       "69       67          67   186474  2155-02-25 12:45:00  2155-03-06 15:00:00   \n",
       "87       85          84   120969  2196-02-02 07:15:00  2196-02-04 17:48:00   \n",
       "143     182         135   199634  2174-05-17 09:00:00  2174-05-21 14:00:00   \n",
       "261     409         323   192631  2115-05-17 21:06:00  2115-05-27 13:30:00   \n",
       "272     420         330   184134  2132-01-15 07:15:00  2132-01-17 10:30:00   \n",
       "\n",
       "    DEATHTIME ADMISSION_TYPE         ADMISSION_LOCATION   DISCHARGE_LOCATION  \\\n",
       "69        NaN      EMERGENCY  PHYS REFERRAL/NORMAL DELI                  SNF   \n",
       "87        NaN       ELECTIVE  PHYS REFERRAL/NORMAL DELI                 HOME   \n",
       "143       NaN       ELECTIVE  PHYS REFERRAL/NORMAL DELI     HOME HEALTH CARE   \n",
       "261       NaN      EMERGENCY       EMERGENCY ROOM ADMIT  SHORT TERM HOSPITAL   \n",
       "272       NaN       ELECTIVE  PHYS REFERRAL/NORMAL DELI                 HOME   \n",
       "\n",
       "    INSURANCE      ...      HAS_CHARTEVENTS_DATA             admTime  \\\n",
       "69   Medicare      ...                         0 2155-02-25 12:45:00   \n",
       "87    Private      ...                         0 2196-02-02 07:15:00   \n",
       "143   Private      ...                         0 2174-05-17 09:00:00   \n",
       "261  Medicare      ...                         0 2115-05-17 21:06:00   \n",
       "272   Private      ...                         0 2132-01-15 07:15:00   \n",
       "\n",
       "              dischTime deathTime         losDays       los losRound  \\\n",
       "69  2155-03-06 15:00:00       NaT 9 days 02:15:00  9.093750      9.0   \n",
       "87  2196-02-04 17:48:00       NaT 2 days 10:33:00  2.439583      2.0   \n",
       "143 2174-05-21 14:00:00       NaT 4 days 05:00:00  4.208333      4.0   \n",
       "261 2115-05-27 13:30:00       NaT 9 days 16:24:00  9.683333     10.0   \n",
       "272 2132-01-17 10:30:00       NaT 2 days 03:15:00  2.135417      2.0   \n",
       "\n",
       "                regTime             outTime totalTimeStay  \n",
       "69                  NaT                 NaT           NaN  \n",
       "87                  NaT                 NaT           NaN  \n",
       "143                 NaT                 NaT           NaN  \n",
       "261 2115-05-17 13:40:00 2115-05-17 22:37:00           9.0  \n",
       "272                 NaT                 NaT           NaN  \n",
       "\n",
       "[5 rows x 28 columns]"
      ]
     },
     "execution_count": 28,
     "metadata": {},
     "output_type": "execute_result"
    }
   ],
   "source": [
    "missingCharts = admissions[admissions['HAS_CHARTEVENTS_DATA'] == 0]\n",
    "missingCharts.head(5)\n",
    "\n",
    "##Nothing unusual -- Will be getting rid of these if connecting with chartevents (1592 rows)"
   ]
  },
  {
   "cell_type": "code",
   "execution_count": 10,
   "metadata": {
    "collapsed": false
   },
   "outputs": [],
   "source": [
    "##need died data from patients table?\n",
    "\n",
    "#admissions['diedInHospital'] = admissions[\"DEATHTIME\"].notnull()\n",
    "#admissions[\"DEATHTIME\"].notnull()\n",
    "\n",
    "###OOOPS, it is there already\n",
    "\n",
    "#Write a clean csv file\n",
    "\n",
    "#admissions.to_csv('admissions.csv')"
   ]
  },
  {
   "cell_type": "markdown",
   "metadata": {},
   "source": [
    "### 5) combine categories in other variables (Ethinicyt, Religion etc)"
   ]
  },
  {
   "cell_type": "code",
   "execution_count": 29,
   "metadata": {
    "collapsed": false
   },
   "outputs": [],
   "source": [
    "def consolidateLoc(row):\n",
    "    transfer = [\"TRANSFER FROM HOSP/EXTRAM\", \"TRANSFER FROM SKILLED NUR\", \"TRANSFER FROM OTHER HEALT\", \"TRSF WITHIN THIS FACILITY\"]\n",
    "    #referral let's keep normal and premature separate\n",
    "    if (row in transfer):\n",
    "        return \"TRANSFER\"\n",
    "    elif (row == 'HMO REFERRAL/SICK'):\n",
    "        return \"PHYS REFERRAL/NORMAL DELI\"\n",
    "    else:\n",
    "        return row\n",
    "    \n",
    "admissions['ADMISSION_LOCATION'] = admissions.ADMISSION_LOCATION.map(consolidateLoc)"
   ]
  },
  {
   "cell_type": "code",
   "execution_count": 30,
   "metadata": {
    "collapsed": false
   },
   "outputs": [
    {
     "data": {
      "text/plain": [
       "EMERGENCY ROOM ADMIT         22341\n",
       "CLINIC REFERRAL/PREMATURE     9890\n",
       "PHYS REFERRAL/NORMAL DELI     9336\n",
       "TRANSFER                      8684\n",
       "** INFO NOT AVAILABLE **         4\n",
       "Name: ADMISSION_LOCATION, dtype: int64"
      ]
     },
     "execution_count": 30,
     "metadata": {},
     "output_type": "execute_result"
    }
   ],
   "source": [
    "admissions['ADMISSION_LOCATION'].value_counts()"
   ]
  },
  {
   "cell_type": "code",
   "execution_count": 31,
   "metadata": {
    "collapsed": false
   },
   "outputs": [
    {
     "data": {
      "text/html": [
       "<div>\n",
       "<table border=\"1\" class=\"dataframe\">\n",
       "  <thead>\n",
       "    <tr style=\"text-align: right;\">\n",
       "      <th></th>\n",
       "      <th>ROW_ID</th>\n",
       "      <th>SUBJECT_ID</th>\n",
       "      <th>HADM_ID</th>\n",
       "      <th>ADMITTIME</th>\n",
       "      <th>DISCHTIME</th>\n",
       "      <th>DEATHTIME</th>\n",
       "      <th>ADMISSION_TYPE</th>\n",
       "      <th>ADMISSION_LOCATION</th>\n",
       "      <th>DISCHARGE_LOCATION</th>\n",
       "      <th>INSURANCE</th>\n",
       "      <th>...</th>\n",
       "      <th>HAS_CHARTEVENTS_DATA</th>\n",
       "      <th>admTime</th>\n",
       "      <th>dischTime</th>\n",
       "      <th>deathTime</th>\n",
       "      <th>losDays</th>\n",
       "      <th>los</th>\n",
       "      <th>losRound</th>\n",
       "      <th>regTime</th>\n",
       "      <th>outTime</th>\n",
       "      <th>totalTimeStay</th>\n",
       "    </tr>\n",
       "  </thead>\n",
       "  <tbody>\n",
       "    <tr>\n",
       "      <th>16502</th>\n",
       "      <td>16738</td>\n",
       "      <td>13647</td>\n",
       "      <td>143439</td>\n",
       "      <td>2108-12-17 01:53:00</td>\n",
       "      <td>2108-12-23 13:00:00</td>\n",
       "      <td>NaN</td>\n",
       "      <td>EMERGENCY</td>\n",
       "      <td>** INFO NOT AVAILABLE **</td>\n",
       "      <td>HOME</td>\n",
       "      <td>Private</td>\n",
       "      <td>...</td>\n",
       "      <td>1</td>\n",
       "      <td>2108-12-17 01:53:00</td>\n",
       "      <td>2108-12-23 13:00:00</td>\n",
       "      <td>NaT</td>\n",
       "      <td>6 days 11:07:00</td>\n",
       "      <td>6.463194</td>\n",
       "      <td>6.0</td>\n",
       "      <td>NaT</td>\n",
       "      <td>NaT</td>\n",
       "      <td>NaN</td>\n",
       "    </tr>\n",
       "    <tr>\n",
       "      <th>18431</th>\n",
       "      <td>20027</td>\n",
       "      <td>16400</td>\n",
       "      <td>103011</td>\n",
       "      <td>2131-12-29 20:55:00</td>\n",
       "      <td>2132-01-07 16:35:00</td>\n",
       "      <td>NaN</td>\n",
       "      <td>EMERGENCY</td>\n",
       "      <td>** INFO NOT AVAILABLE **</td>\n",
       "      <td>REHAB/DISTINCT PART HOSP</td>\n",
       "      <td>Medicare</td>\n",
       "      <td>...</td>\n",
       "      <td>1</td>\n",
       "      <td>2131-12-29 20:55:00</td>\n",
       "      <td>2132-01-07 16:35:00</td>\n",
       "      <td>NaT</td>\n",
       "      <td>8 days 19:40:00</td>\n",
       "      <td>8.819444</td>\n",
       "      <td>9.0</td>\n",
       "      <td>NaT</td>\n",
       "      <td>NaT</td>\n",
       "      <td>NaN</td>\n",
       "    </tr>\n",
       "    <tr>\n",
       "      <th>24028</th>\n",
       "      <td>25368</td>\n",
       "      <td>20778</td>\n",
       "      <td>113683</td>\n",
       "      <td>2180-12-02 17:46:00</td>\n",
       "      <td>2180-12-11 19:21:00</td>\n",
       "      <td>NaN</td>\n",
       "      <td>EMERGENCY</td>\n",
       "      <td>** INFO NOT AVAILABLE **</td>\n",
       "      <td>REHAB/DISTINCT PART HOSP</td>\n",
       "      <td>Medicare</td>\n",
       "      <td>...</td>\n",
       "      <td>1</td>\n",
       "      <td>2180-12-02 17:46:00</td>\n",
       "      <td>2180-12-11 19:21:00</td>\n",
       "      <td>NaT</td>\n",
       "      <td>9 days 01:35:00</td>\n",
       "      <td>9.065972</td>\n",
       "      <td>9.0</td>\n",
       "      <td>2180-12-02 14:10:00</td>\n",
       "      <td>2180-12-02 20:03:00</td>\n",
       "      <td>6.0</td>\n",
       "    </tr>\n",
       "    <tr>\n",
       "      <th>25617</th>\n",
       "      <td>23307</td>\n",
       "      <td>19082</td>\n",
       "      <td>187326</td>\n",
       "      <td>2169-10-30 04:28:00</td>\n",
       "      <td>2169-11-06 19:45:00</td>\n",
       "      <td>NaN</td>\n",
       "      <td>EMERGENCY</td>\n",
       "      <td>** INFO NOT AVAILABLE **</td>\n",
       "      <td>SNF</td>\n",
       "      <td>Medicare</td>\n",
       "      <td>...</td>\n",
       "      <td>1</td>\n",
       "      <td>2169-10-30 04:28:00</td>\n",
       "      <td>2169-11-06 19:45:00</td>\n",
       "      <td>NaT</td>\n",
       "      <td>7 days 15:17:00</td>\n",
       "      <td>7.636806</td>\n",
       "      <td>8.0</td>\n",
       "      <td>2169-10-30 02:07:00</td>\n",
       "      <td>2169-10-30 06:01:00</td>\n",
       "      <td>4.0</td>\n",
       "    </tr>\n",
       "  </tbody>\n",
       "</table>\n",
       "<p>4 rows × 28 columns</p>\n",
       "</div>"
      ],
      "text/plain": [
       "       ROW_ID  SUBJECT_ID  HADM_ID            ADMITTIME            DISCHTIME  \\\n",
       "16502   16738       13647   143439  2108-12-17 01:53:00  2108-12-23 13:00:00   \n",
       "18431   20027       16400   103011  2131-12-29 20:55:00  2132-01-07 16:35:00   \n",
       "24028   25368       20778   113683  2180-12-02 17:46:00  2180-12-11 19:21:00   \n",
       "25617   23307       19082   187326  2169-10-30 04:28:00  2169-11-06 19:45:00   \n",
       "\n",
       "      DEATHTIME ADMISSION_TYPE        ADMISSION_LOCATION  \\\n",
       "16502       NaN      EMERGENCY  ** INFO NOT AVAILABLE **   \n",
       "18431       NaN      EMERGENCY  ** INFO NOT AVAILABLE **   \n",
       "24028       NaN      EMERGENCY  ** INFO NOT AVAILABLE **   \n",
       "25617       NaN      EMERGENCY  ** INFO NOT AVAILABLE **   \n",
       "\n",
       "             DISCHARGE_LOCATION INSURANCE      ...      HAS_CHARTEVENTS_DATA  \\\n",
       "16502                      HOME   Private      ...                         1   \n",
       "18431  REHAB/DISTINCT PART HOSP  Medicare      ...                         1   \n",
       "24028  REHAB/DISTINCT PART HOSP  Medicare      ...                         1   \n",
       "25617                       SNF  Medicare      ...                         1   \n",
       "\n",
       "                  admTime           dischTime deathTime         losDays  \\\n",
       "16502 2108-12-17 01:53:00 2108-12-23 13:00:00       NaT 6 days 11:07:00   \n",
       "18431 2131-12-29 20:55:00 2132-01-07 16:35:00       NaT 8 days 19:40:00   \n",
       "24028 2180-12-02 17:46:00 2180-12-11 19:21:00       NaT 9 days 01:35:00   \n",
       "25617 2169-10-30 04:28:00 2169-11-06 19:45:00       NaT 7 days 15:17:00   \n",
       "\n",
       "            los losRound             regTime             outTime totalTimeStay  \n",
       "16502  6.463194      6.0                 NaT                 NaT           NaN  \n",
       "18431  8.819444      9.0                 NaT                 NaT           NaN  \n",
       "24028  9.065972      9.0 2180-12-02 14:10:00 2180-12-02 20:03:00           6.0  \n",
       "25617  7.636806      8.0 2169-10-30 02:07:00 2169-10-30 06:01:00           4.0  \n",
       "\n",
       "[4 rows x 28 columns]"
      ]
     },
     "execution_count": 31,
     "metadata": {},
     "output_type": "execute_result"
    }
   ],
   "source": [
    "admissions[admissions['ADMISSION_LOCATION'] == '** INFO NOT AVAILABLE **']"
   ]
  },
  {
   "cell_type": "code",
   "execution_count": 32,
   "metadata": {
    "collapsed": true
   },
   "outputs": [],
   "source": [
    "admissions = admissions[admissions['ADMISSION_LOCATION'] != '** INFO NOT AVAILABLE **']"
   ]
  },
  {
   "cell_type": "code",
   "execution_count": 33,
   "metadata": {
    "collapsed": false
   },
   "outputs": [],
   "source": [
    "#Language\n",
    "admissions['LANGUAGE'][admissions.LANGUAGE != 'ENGL'] = \"OTHER\""
   ]
  },
  {
   "cell_type": "code",
   "execution_count": 34,
   "metadata": {
    "collapsed": false
   },
   "outputs": [
    {
     "data": {
      "text/plain": [
       "ENGL     28468\n",
       "OTHER    21783\n",
       "Name: LANGUAGE, dtype: int64"
      ]
     },
     "execution_count": 34,
     "metadata": {},
     "output_type": "execute_result"
    }
   ],
   "source": [
    "admissions.LANGUAGE.value_counts()"
   ]
  },
  {
   "cell_type": "markdown",
   "metadata": {},
   "source": [
    "##@todo May be make it binary? So instead of 2 we get 1."
   ]
  },
  {
   "cell_type": "code",
   "execution_count": 36,
   "metadata": {
    "collapsed": true
   },
   "outputs": [],
   "source": [
    "##religion\n",
    "\n",
    "def conRel(row):\n",
    "    keeping = [\"CATHOLIC\", \"JEWISH\", \"PROTESTANT QUAKER\"]\n",
    "    \n",
    "    if(row == \"UNOBTAINABLE\" or row == \"NOT SPECIFIED\"):\n",
    "        return \"NOT SPECIFIED\"\n",
    "    elif(row not in keeping ):\n",
    "        return \"OTHER\"\n",
    "    \n",
    "admissions['RELIGION'] = admissions.RELIGION.map(conRel)"
   ]
  },
  {
   "cell_type": "code",
   "execution_count": 38,
   "metadata": {
    "collapsed": false
   },
   "outputs": [
    {
     "data": {
      "text/plain": [
       "NOT SPECIFIED    15501\n",
       "OTHER             5145\n",
       "Name: RELIGION, dtype: int64"
      ]
     },
     "execution_count": 38,
     "metadata": {},
     "output_type": "execute_result"
    }
   ],
   "source": [
    "admissions.RELIGION.value_counts()"
   ]
  },
  {
   "cell_type": "markdown",
   "metadata": {},
   "source": [
    "## 6) Linear Models"
   ]
  },
  {
   "cell_type": "code",
   "execution_count": 7,
   "metadata": {
    "collapsed": true
   },
   "outputs": [],
   "source": [
    "import statsmodels.formula.api as sm"
   ]
  },
  {
   "cell_type": "code",
   "execution_count": 9,
   "metadata": {
    "collapsed": false
   },
   "outputs": [],
   "source": [
    "#lmDeath = sm.ols(formula=\"diedInHospital ~ los\", data=admissions).fit()"
   ]
  },
  {
   "cell_type": "code",
   "execution_count": null,
   "metadata": {
    "collapsed": false
   },
   "outputs": [],
   "source": [
    "print lmDeath.params\n",
    "\n"
   ]
  },
  {
   "cell_type": "code",
   "execution_count": null,
   "metadata": {
    "collapsed": false
   },
   "outputs": [],
   "source": [
    "from sklearn import linear_model\n",
    "\n",
    "reg = linear_model.LinearRegression()\n",
    "reg.fit(admissions[['los']], admissions['diedInHospital'])"
   ]
  },
  {
   "cell_type": "code",
   "execution_count": null,
   "metadata": {
    "collapsed": false
   },
   "outputs": [],
   "source": [
    "print reg.coef_"
   ]
  },
  {
   "cell_type": "markdown",
   "metadata": {},
   "source": [
    "Let's keep the columns that matter"
   ]
  },
  {
   "cell_type": "code",
   "execution_count": 39,
   "metadata": {
    "collapsed": false
   },
   "outputs": [
    {
     "data": {
      "text/html": [
       "<div>\n",
       "<table border=\"1\" class=\"dataframe\">\n",
       "  <thead>\n",
       "    <tr style=\"text-align: right;\">\n",
       "      <th></th>\n",
       "      <th>ROW_ID</th>\n",
       "      <th>SUBJECT_ID</th>\n",
       "      <th>HADM_ID</th>\n",
       "      <th>ADMITTIME</th>\n",
       "      <th>DISCHTIME</th>\n",
       "      <th>DEATHTIME</th>\n",
       "      <th>ADMISSION_TYPE</th>\n",
       "      <th>ADMISSION_LOCATION</th>\n",
       "      <th>DISCHARGE_LOCATION</th>\n",
       "      <th>INSURANCE</th>\n",
       "      <th>...</th>\n",
       "      <th>HAS_CHARTEVENTS_DATA</th>\n",
       "      <th>admTime</th>\n",
       "      <th>dischTime</th>\n",
       "      <th>deathTime</th>\n",
       "      <th>losDays</th>\n",
       "      <th>los</th>\n",
       "      <th>losRound</th>\n",
       "      <th>regTime</th>\n",
       "      <th>outTime</th>\n",
       "      <th>totalTimeStay</th>\n",
       "    </tr>\n",
       "  </thead>\n",
       "  <tbody>\n",
       "    <tr>\n",
       "      <th>0</th>\n",
       "      <td>21</td>\n",
       "      <td>22</td>\n",
       "      <td>165315</td>\n",
       "      <td>2196-04-09 12:26:00</td>\n",
       "      <td>2196-04-10 15:54:00</td>\n",
       "      <td>NaN</td>\n",
       "      <td>EMERGENCY</td>\n",
       "      <td>EMERGENCY ROOM ADMIT</td>\n",
       "      <td>DISC-TRAN CANCER/CHLDRN H</td>\n",
       "      <td>Private</td>\n",
       "      <td>...</td>\n",
       "      <td>1</td>\n",
       "      <td>2196-04-09 12:26:00</td>\n",
       "      <td>2196-04-10 15:54:00</td>\n",
       "      <td>NaT</td>\n",
       "      <td>1 days 03:28:00</td>\n",
       "      <td>1.144444</td>\n",
       "      <td>1.0</td>\n",
       "      <td>2196-04-09 10:06:00</td>\n",
       "      <td>2196-04-09 13:24:00</td>\n",
       "      <td>3.0</td>\n",
       "    </tr>\n",
       "    <tr>\n",
       "      <th>1</th>\n",
       "      <td>22</td>\n",
       "      <td>23</td>\n",
       "      <td>152223</td>\n",
       "      <td>2153-09-03 07:15:00</td>\n",
       "      <td>2153-09-08 19:10:00</td>\n",
       "      <td>NaN</td>\n",
       "      <td>ELECTIVE</td>\n",
       "      <td>PHYS REFERRAL/NORMAL DELI</td>\n",
       "      <td>HOME HEALTH CARE</td>\n",
       "      <td>Medicare</td>\n",
       "      <td>...</td>\n",
       "      <td>1</td>\n",
       "      <td>2153-09-03 07:15:00</td>\n",
       "      <td>2153-09-08 19:10:00</td>\n",
       "      <td>NaT</td>\n",
       "      <td>5 days 11:55:00</td>\n",
       "      <td>5.496528</td>\n",
       "      <td>5.0</td>\n",
       "      <td>NaT</td>\n",
       "      <td>NaT</td>\n",
       "      <td>NaN</td>\n",
       "    </tr>\n",
       "  </tbody>\n",
       "</table>\n",
       "<p>2 rows × 28 columns</p>\n",
       "</div>"
      ],
      "text/plain": [
       "   ROW_ID  SUBJECT_ID  HADM_ID            ADMITTIME            DISCHTIME  \\\n",
       "0      21          22   165315  2196-04-09 12:26:00  2196-04-10 15:54:00   \n",
       "1      22          23   152223  2153-09-03 07:15:00  2153-09-08 19:10:00   \n",
       "\n",
       "  DEATHTIME ADMISSION_TYPE         ADMISSION_LOCATION  \\\n",
       "0       NaN      EMERGENCY       EMERGENCY ROOM ADMIT   \n",
       "1       NaN       ELECTIVE  PHYS REFERRAL/NORMAL DELI   \n",
       "\n",
       "          DISCHARGE_LOCATION INSURANCE      ...      HAS_CHARTEVENTS_DATA  \\\n",
       "0  DISC-TRAN CANCER/CHLDRN H   Private      ...                         1   \n",
       "1           HOME HEALTH CARE  Medicare      ...                         1   \n",
       "\n",
       "              admTime           dischTime deathTime         losDays       los  \\\n",
       "0 2196-04-09 12:26:00 2196-04-10 15:54:00       NaT 1 days 03:28:00  1.144444   \n",
       "1 2153-09-03 07:15:00 2153-09-08 19:10:00       NaT 5 days 11:55:00  5.496528   \n",
       "\n",
       "  losRound             regTime             outTime totalTimeStay  \n",
       "0      1.0 2196-04-09 10:06:00 2196-04-09 13:24:00           3.0  \n",
       "1      5.0                 NaT                 NaT           NaN  \n",
       "\n",
       "[2 rows x 28 columns]"
      ]
     },
     "execution_count": 39,
     "metadata": {},
     "output_type": "execute_result"
    }
   ],
   "source": [
    "admissions.head(2)"
   ]
  },
  {
   "cell_type": "code",
   "execution_count": 45,
   "metadata": {
    "collapsed": false
   },
   "outputs": [
    {
     "data": {
      "text/html": [
       "<div>\n",
       "<table border=\"1\" class=\"dataframe\">\n",
       "  <thead>\n",
       "    <tr style=\"text-align: right;\">\n",
       "      <th></th>\n",
       "      <th>los</th>\n",
       "      <th>totalTimeStay</th>\n",
       "    </tr>\n",
       "  </thead>\n",
       "  <tbody>\n",
       "    <tr>\n",
       "      <th>los</th>\n",
       "      <td>1.000000</td>\n",
       "      <td>0.025062</td>\n",
       "    </tr>\n",
       "    <tr>\n",
       "      <th>totalTimeStay</th>\n",
       "      <td>0.025062</td>\n",
       "      <td>1.000000</td>\n",
       "    </tr>\n",
       "  </tbody>\n",
       "</table>\n",
       "</div>"
      ],
      "text/plain": [
       "                    los  totalTimeStay\n",
       "los            1.000000       0.025062\n",
       "totalTimeStay  0.025062       1.000000"
      ]
     },
     "execution_count": 45,
     "metadata": {},
     "output_type": "execute_result"
    }
   ],
   "source": [
    "## No need of rowID, \n",
    "adm_nums = admissions[['los', 'totalTimeStay']]\n",
    "adm_nums.corr()"
   ]
  },
  {
   "cell_type": "markdown",
   "metadata": {},
   "source": [
    "#### Finding : no correlation for los and totalTimeStay"
   ]
  },
  {
   "cell_type": "code",
   "execution_count": 47,
   "metadata": {
    "collapsed": false
   },
   "outputs": [],
   "source": [
    "#admissions.corr()"
   ]
  },
  {
   "cell_type": "markdown",
   "metadata": {},
   "source": [
    "### PIVOT Tables and more EDA\n",
    "\n",
    "Create Correlation matrices/heatmap about LOS and other attributes\n",
    "\n",
    "\n"
   ]
  },
  {
   "cell_type": "code",
   "execution_count": 43,
   "metadata": {
    "collapsed": false
   },
   "outputs": [
    {
     "data": {
      "image/png": "[encoded data removed]",
      "text/plain": [
       "<matplotlib.figure.Figure at 0xed1acc0>"
      ]
     },
     "metadata": {},
     "output_type": "display_data"
    }
   ],
   "source": []
  },
  {
   "cell_type": "markdown",
   "metadata": {},
   "source": [
    "### Machine Learning\n",
    "\n",
    "Create cohorts of patients that tend to stay longer in hospitals, or tend to get readmitted\n",
    "\n",
    "Create cohorts of diagnoses, medications, procedures etc that lead to same results"
   ]
  }
 ],
 "metadata": {
  "anaconda-cloud": {},
  "kernelspec": {
   "display_name": "Python [Root]",
   "language": "python",
   "name": "Python [Root]"
  },
  "language_info": {
   "codemirror_mode": {
    "name": "ipython",
    "version": 2
   },
   "file_extension": ".py",
   "mimetype": "text/x-python",
   "name": "python",
   "nbconvert_exporter": "python",
   "pygments_lexer": "ipython2",
   "version": "2.7.12"
  }
 },
 "nbformat": 4,
 "nbformat_minor": 0
}
