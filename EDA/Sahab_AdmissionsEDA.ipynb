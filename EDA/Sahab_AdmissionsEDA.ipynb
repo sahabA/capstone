{
 "cells": [
  {
   "cell_type": "code",
   "execution_count": 14,
   "metadata": {
    "collapsed": true
   },
   "outputs": [],
   "source": [
    "import pandas as pd\n",
    "import matplotlib.pylab as plt\n",
    "from matplotlib.colors import LinearSegmentedColormap\n",
    "from matplotlib.lines import Line2D \n",
    "import numpy as np\n",
    "%matplotlib inline"
   ]
  },
  {
   "cell_type": "markdown",
   "metadata": {},
   "source": [
    "# Admissions\n",
    "\n",
    "Links to: PATIENTS on SUBJECT_ID\n",
    "    \n",
    "## Brief summary\n",
    "\n",
    "The ADMISSIONS table gives information regarding a patient’s admission to the hospital. Since each unique hospital visit for a patient is assigned a unique HADM_ID, the ADMISSIONS table can be considered as a definition table for HADM_ID. Information available includes timing information for admission and discharge, demographic information, the source of the admission, and so on.\n",
    "\n",
    "The ADMISSIONS table defines all HADM_ID present in the database, covering an admission period between 1 June 2001 and 10 October 2012.\n"
   ]
  },
  {
   "cell_type": "code",
   "execution_count": 52,
   "metadata": {
    "collapsed": true
   },
   "outputs": [],
   "source": [
    "admissions =  pd.read_csv(\"Downloads/ADMISSIONS.csv\")"
   ]
  },
  {
   "cell_type": "code",
   "execution_count": 5,
   "metadata": {
    "collapsed": false
   },
   "outputs": [
    {
     "data": {
      "text/html": [
       "<div>\n",
       "<table border=\"1\" class=\"dataframe\">\n",
       "  <thead>\n",
       "    <tr style=\"text-align: right;\">\n",
       "      <th></th>\n",
       "      <th>ROW_ID</th>\n",
       "      <th>SUBJECT_ID</th>\n",
       "      <th>HADM_ID</th>\n",
       "      <th>ADMITTIME</th>\n",
       "      <th>DISCHTIME</th>\n",
       "      <th>DEATHTIME</th>\n",
       "      <th>ADMISSION_TYPE</th>\n",
       "      <th>ADMISSION_LOCATION</th>\n",
       "      <th>DISCHARGE_LOCATION</th>\n",
       "      <th>INSURANCE</th>\n",
       "      <th>LANGUAGE</th>\n",
       "      <th>RELIGION</th>\n",
       "      <th>MARITAL_STATUS</th>\n",
       "      <th>ETHNICITY</th>\n",
       "      <th>EDREGTIME</th>\n",
       "      <th>EDOUTTIME</th>\n",
       "      <th>DIAGNOSIS</th>\n",
       "      <th>HOSPITAL_EXPIRE_FLAG</th>\n",
       "      <th>HAS_CHARTEVENTS_DATA</th>\n",
       "    </tr>\n",
       "  </thead>\n",
       "  <tbody>\n",
       "    <tr>\n",
       "      <th>0</th>\n",
       "      <td>21</td>\n",
       "      <td>22</td>\n",
       "      <td>165315</td>\n",
       "      <td>2196-04-09 12:26:00</td>\n",
       "      <td>2196-04-10 15:54:00</td>\n",
       "      <td>NaN</td>\n",
       "      <td>EMERGENCY</td>\n",
       "      <td>EMERGENCY ROOM ADMIT</td>\n",
       "      <td>DISC-TRAN CANCER/CHLDRN H</td>\n",
       "      <td>Private</td>\n",
       "      <td>NaN</td>\n",
       "      <td>UNOBTAINABLE</td>\n",
       "      <td>MARRIED</td>\n",
       "      <td>WHITE</td>\n",
       "      <td>2196-04-09 10:06:00</td>\n",
       "      <td>2196-04-09 13:24:00</td>\n",
       "      <td>BENZODIAZEPINE OVERDOSE</td>\n",
       "      <td>0</td>\n",
       "      <td>1</td>\n",
       "    </tr>\n",
       "    <tr>\n",
       "      <th>1</th>\n",
       "      <td>22</td>\n",
       "      <td>23</td>\n",
       "      <td>152223</td>\n",
       "      <td>2153-09-03 07:15:00</td>\n",
       "      <td>2153-09-08 19:10:00</td>\n",
       "      <td>NaN</td>\n",
       "      <td>ELECTIVE</td>\n",
       "      <td>PHYS REFERRAL/NORMAL DELI</td>\n",
       "      <td>HOME HEALTH CARE</td>\n",
       "      <td>Medicare</td>\n",
       "      <td>NaN</td>\n",
       "      <td>CATHOLIC</td>\n",
       "      <td>MARRIED</td>\n",
       "      <td>WHITE</td>\n",
       "      <td>NaN</td>\n",
       "      <td>NaN</td>\n",
       "      <td>CORONARY ARTERY DISEASE\\CORONARY ARTERY BYPASS...</td>\n",
       "      <td>0</td>\n",
       "      <td>1</td>\n",
       "    </tr>\n",
       "    <tr>\n",
       "      <th>2</th>\n",
       "      <td>23</td>\n",
       "      <td>23</td>\n",
       "      <td>124321</td>\n",
       "      <td>2157-10-18 19:34:00</td>\n",
       "      <td>2157-10-25 14:00:00</td>\n",
       "      <td>NaN</td>\n",
       "      <td>EMERGENCY</td>\n",
       "      <td>TRANSFER FROM HOSP/EXTRAM</td>\n",
       "      <td>HOME HEALTH CARE</td>\n",
       "      <td>Medicare</td>\n",
       "      <td>ENGL</td>\n",
       "      <td>CATHOLIC</td>\n",
       "      <td>MARRIED</td>\n",
       "      <td>WHITE</td>\n",
       "      <td>NaN</td>\n",
       "      <td>NaN</td>\n",
       "      <td>BRAIN MASS</td>\n",
       "      <td>0</td>\n",
       "      <td>1</td>\n",
       "    </tr>\n",
       "    <tr>\n",
       "      <th>3</th>\n",
       "      <td>24</td>\n",
       "      <td>24</td>\n",
       "      <td>161859</td>\n",
       "      <td>2139-06-06 16:14:00</td>\n",
       "      <td>2139-06-09 12:48:00</td>\n",
       "      <td>NaN</td>\n",
       "      <td>EMERGENCY</td>\n",
       "      <td>TRANSFER FROM HOSP/EXTRAM</td>\n",
       "      <td>HOME</td>\n",
       "      <td>Private</td>\n",
       "      <td>NaN</td>\n",
       "      <td>PROTESTANT QUAKER</td>\n",
       "      <td>SINGLE</td>\n",
       "      <td>WHITE</td>\n",
       "      <td>NaN</td>\n",
       "      <td>NaN</td>\n",
       "      <td>INTERIOR MYOCARDIAL INFARCTION</td>\n",
       "      <td>0</td>\n",
       "      <td>1</td>\n",
       "    </tr>\n",
       "    <tr>\n",
       "      <th>4</th>\n",
       "      <td>25</td>\n",
       "      <td>25</td>\n",
       "      <td>129635</td>\n",
       "      <td>2160-11-02 02:06:00</td>\n",
       "      <td>2160-11-05 14:55:00</td>\n",
       "      <td>NaN</td>\n",
       "      <td>EMERGENCY</td>\n",
       "      <td>EMERGENCY ROOM ADMIT</td>\n",
       "      <td>HOME</td>\n",
       "      <td>Private</td>\n",
       "      <td>NaN</td>\n",
       "      <td>UNOBTAINABLE</td>\n",
       "      <td>MARRIED</td>\n",
       "      <td>WHITE</td>\n",
       "      <td>2160-11-02 01:01:00</td>\n",
       "      <td>2160-11-02 04:27:00</td>\n",
       "      <td>ACUTE CORONARY SYNDROME</td>\n",
       "      <td>0</td>\n",
       "      <td>1</td>\n",
       "    </tr>\n",
       "  </tbody>\n",
       "</table>\n",
       "</div>"
      ],
      "text/plain": [
       "   ROW_ID  SUBJECT_ID  HADM_ID            ADMITTIME            DISCHTIME  \\\n",
       "0      21          22   165315  2196-04-09 12:26:00  2196-04-10 15:54:00   \n",
       "1      22          23   152223  2153-09-03 07:15:00  2153-09-08 19:10:00   \n",
       "2      23          23   124321  2157-10-18 19:34:00  2157-10-25 14:00:00   \n",
       "3      24          24   161859  2139-06-06 16:14:00  2139-06-09 12:48:00   \n",
       "4      25          25   129635  2160-11-02 02:06:00  2160-11-05 14:55:00   \n",
       "\n",
       "  DEATHTIME ADMISSION_TYPE         ADMISSION_LOCATION  \\\n",
       "0       NaN      EMERGENCY       EMERGENCY ROOM ADMIT   \n",
       "1       NaN       ELECTIVE  PHYS REFERRAL/NORMAL DELI   \n",
       "2       NaN      EMERGENCY  TRANSFER FROM HOSP/EXTRAM   \n",
       "3       NaN      EMERGENCY  TRANSFER FROM HOSP/EXTRAM   \n",
       "4       NaN      EMERGENCY       EMERGENCY ROOM ADMIT   \n",
       "\n",
       "          DISCHARGE_LOCATION INSURANCE LANGUAGE           RELIGION  \\\n",
       "0  DISC-TRAN CANCER/CHLDRN H   Private      NaN       UNOBTAINABLE   \n",
       "1           HOME HEALTH CARE  Medicare      NaN           CATHOLIC   \n",
       "2           HOME HEALTH CARE  Medicare     ENGL           CATHOLIC   \n",
       "3                       HOME   Private      NaN  PROTESTANT QUAKER   \n",
       "4                       HOME   Private      NaN       UNOBTAINABLE   \n",
       "\n",
       "  MARITAL_STATUS ETHNICITY            EDREGTIME            EDOUTTIME  \\\n",
       "0        MARRIED     WHITE  2196-04-09 10:06:00  2196-04-09 13:24:00   \n",
       "1        MARRIED     WHITE                  NaN                  NaN   \n",
       "2        MARRIED     WHITE                  NaN                  NaN   \n",
       "3         SINGLE     WHITE                  NaN                  NaN   \n",
       "4        MARRIED     WHITE  2160-11-02 01:01:00  2160-11-02 04:27:00   \n",
       "\n",
       "                                           DIAGNOSIS  HOSPITAL_EXPIRE_FLAG  \\\n",
       "0                            BENZODIAZEPINE OVERDOSE                     0   \n",
       "1  CORONARY ARTERY DISEASE\\CORONARY ARTERY BYPASS...                     0   \n",
       "2                                         BRAIN MASS                     0   \n",
       "3                     INTERIOR MYOCARDIAL INFARCTION                     0   \n",
       "4                            ACUTE CORONARY SYNDROME                     0   \n",
       "\n",
       "   HAS_CHARTEVENTS_DATA  \n",
       "0                     1  \n",
       "1                     1  \n",
       "2                     1  \n",
       "3                     1  \n",
       "4                     1  "
      ]
     },
     "execution_count": 5,
     "metadata": {},
     "output_type": "execute_result"
    }
   ],
   "source": [
    "admissions.head()"
   ]
  },
  {
   "cell_type": "code",
   "execution_count": 12,
   "metadata": {
    "collapsed": false
   },
   "outputs": [
    {
     "data": {
      "text/plain": [
       "ROW_ID                  58976\n",
       "SUBJECT_ID              46520\n",
       "HADM_ID                 58976\n",
       "ADMITTIME               58651\n",
       "DISCHTIME               58657\n",
       "DEATHTIME                5834\n",
       "ADMISSION_TYPE              4\n",
       "ADMISSION_LOCATION          9\n",
       "DISCHARGE_LOCATION         17\n",
       "INSURANCE                   5\n",
       "LANGUAGE                   75\n",
       "RELIGION                   20\n",
       "MARITAL_STATUS              7\n",
       "ETHNICITY                  41\n",
       "EDREGTIME               30874\n",
       "EDOUTTIME               30864\n",
       "DIAGNOSIS               15691\n",
       "HOSPITAL_EXPIRE_FLAG        2\n",
       "HAS_CHARTEVENTS_DATA        2\n",
       "dtype: int64"
      ]
     },
     "execution_count": 12,
     "metadata": {},
     "output_type": "execute_result"
    }
   ],
   "source": [
    "#get the number of unique values in each columns\n",
    "admissions.apply(pd.Series.nunique)"
   ]
  },
  {
   "cell_type": "code",
   "execution_count": 64,
   "metadata": {
    "collapsed": false
   },
   "outputs": [
    {
     "data": {
      "text/plain": [
       "ROW_ID                      0\n",
       "SUBJECT_ID                  0\n",
       "HADM_ID                     0\n",
       "ADMITTIME                   0\n",
       "DISCHTIME                   0\n",
       "DEATHTIME               53122\n",
       "ADMISSION_TYPE              0\n",
       "ADMISSION_LOCATION          0\n",
       "DISCHARGE_LOCATION          0\n",
       "INSURANCE                   0\n",
       "LANGUAGE                25332\n",
       "RELIGION                  458\n",
       "MARITAL_STATUS          10128\n",
       "ETHNICITY                   0\n",
       "EDREGTIME               28099\n",
       "EDOUTTIME               28099\n",
       "DIAGNOSIS                  25\n",
       "HOSPITAL_EXPIRE_FLAG        0\n",
       "HAS_CHARTEVENTS_DATA        0\n",
       "dtype: int64"
      ]
     },
     "execution_count": 64,
     "metadata": {},
     "output_type": "execute_result"
    }
   ],
   "source": [
    "admissions.isnull().sum()"
   ]
  },
  {
   "cell_type": "markdown",
   "metadata": {},
   "source": [
    "Missing values for religion, langual, marital status would be 'other', diagnoses ones should be looked at.\n",
    "Regist and Out time missing could be a problem with LOS prediction, and we may remove those points for training purpose"
   ]
  },
  {
   "cell_type": "markdown",
   "metadata": {},
   "source": [
    "We can look into it later for each attributes the count of their distinct values\n",
    "\n",
    "@Questions that are interesting: What variables predict certain outcomes, for instance:\n",
    "a) Does language/ethnicity/martial status/religion/insurance make a difference in readmission (are people unable to follow discharge follow up care) - does certain diagnoses get different follow up care  because of any of these attributes\n",
    "b)Does time of the day make a differenc (can't do much with date and time)\n"
   ]
  },
  {
   "cell_type": "markdown",
   "metadata": {},
   "source": [
    "## Important considerations\n",
    "\n",
    "The data is sourced from the admission, discharge and transfer database from the hospital (often referred to as ‘ADT’ data).\n",
    "Organ donor accounts are sometimes created for patients who died in the hospital. These are distinct hospital admissions with very short, sometimes negative lengths of stay. Furthermore, their DEATHTIME is frequently the same as the earlier patient admission’s DEATHTIME.\n",
    "All text data, except for that in the INSURANCE column, is stored in upper case."
   ]
  },
  {
   "cell_type": "code",
   "execution_count": 52,
   "metadata": {
    "collapsed": true
   },
   "outputs": [],
   "source": [
    "#clean organ donors\n",
    "#Find all patients with negative length of stay\n",
    "#what's MINSTAY =?? Research and fill in\n",
    "\n",
    "#@todo\n",
    "#admissions_noOrganDonors = admissions[admissions[\"LOS\"] > MINSTAY]"
   ]
  },
  {
   "cell_type": "markdown",
   "metadata": {},
   "source": [
    "\n",
    "### CREATE READMISSION VAR\n",
    "\n",
    "#### SUBJECT_ID, HADM_ID\n",
    "\n",
    "Each row of this table contains a unique HADM_ID, which represents a single patient’s admission to the hospital. HADM_ID ranges from 1000000 - 1999999. It is possible for this table to have duplicate SUBJECT_ID, indicating that a single patient had multiple admissions to the hospital. The ADMISSIONS table can be linked to the PATIENTS table using SUBJECT_ID."
   ]
  },
  {
   "cell_type": "code",
   "execution_count": 62,
   "metadata": {
    "collapsed": false
   },
   "outputs": [
    {
     "data": {
      "text/plain": [
       "<matplotlib.axes._subplots.AxesSubplot at 0x1b977a20>"
      ]
     },
     "execution_count": 62,
     "metadata": {},
     "output_type": "execute_result"
    },
    {
     "data": {
      "image/png": "[encoded data removed]",
      "text/plain": [
       "<matplotlib.figure.Figure at 0xbf0ecf8>"
      ]
     },
     "metadata": {},
     "output_type": "display_data"
    }
   ],
   "source": [
    "## So let's find out if a patient ever gets readmitted\n",
    "## and how many times\n",
    "\n",
    "readmissionTimes = admissions['SUBJECT_ID'].value_counts()\n",
    "\n",
    "readmissionTimes.head(150).plot(kind='bar', figsize = (15, 5))\n",
    "\n"
   ]
  },
  {
   "cell_type": "code",
   "execution_count": 87,
   "metadata": {
    "collapsed": false
   },
   "outputs": [
    {
     "name": "stdout",
     "output_type": "stream",
     "text": [
      "count    46520.000000\n",
      "mean         1.267756\n",
      "std          0.892498\n",
      "min          1.000000\n",
      "25%          1.000000\n",
      "50%          1.000000\n",
      "75%          1.000000\n",
      "max         42.000000\n",
      "Name: SUBJECT_ID, dtype: float64\n",
      "38983\n",
      "1     38983\n",
      "2      5160\n",
      "3      1342\n",
      "4       508\n",
      "5       246\n",
      "6       113\n",
      "7        51\n",
      "8        31\n",
      "9        26\n",
      "10       14\n",
      "11       13\n",
      "12        8\n",
      "13        5\n",
      "14        4\n",
      "17        3\n",
      "16        2\n",
      "34        2\n",
      "24        1\n",
      "42        1\n",
      "15        1\n",
      "19        1\n",
      "20        1\n",
      "21        1\n",
      "22        1\n",
      "23        1\n",
      "31        1\n",
      "Name: SUBJECT_ID, dtype: int64\n"
     ]
    },
    {
     "data": {
      "text/plain": [
       "<matplotlib.axes._subplots.AxesSubplot at 0x4eb41b38>"
      ]
     },
     "execution_count": 87,
     "metadata": {},
     "output_type": "execute_result"
    },
    {
     "data": {
      "image/png": "[encoded data removed]",
      "text/plain": [
       "<matplotlib.figure.Figure at 0x40f3de80>"
      ]
     },
     "metadata": {},
     "output_type": "display_data"
    }
   ],
   "source": [
    "print readmissionTimes.describe()\n",
    "print readmissionTimes[readmissionTimes == 1].count()\n",
    "\n",
    "\n",
    "# how many people are in each bucket\n",
    "patternOfPatientsReadmittedNumbers = readmissionTimes.value_counts()\n",
    "print patternOfPatientsReadmittedNumbers\n",
    "import numpy as np\n",
    "np.log(patternOfPatientsReadmittedNumbers).plot(kind='bar', figsize = (15, 5)) \n",
    "    \n",
    "#Mean length of stay"
   ]
  },
  {
   "cell_type": "markdown",
   "metadata": {},
   "source": [
    "### ADMITTIME, DISCHTIME, DEATHTIME\n",
    "\n",
    "ADMITTIME provides the date and time the patient was admitted to the hospital, while DISCHTIME provides the date and time the patient was discharged from the hospital. If applicable, DEATHTIME provides the time of in-hospital death for the patient. Note that DEATHTIME is only present if the patient died in-hospital, and is almost always the same as the patient’s DISCHTIME. However, there can be some discrepancies due to typographical errors.\n"
   ]
  },
  {
   "cell_type": "code",
   "execution_count": 7,
   "metadata": {
    "collapsed": false
   },
   "outputs": [],
   "source": [
    "##Let's find out how many of them died\n",
    "##how many of them died in hospital vs outside\n",
    "## ratio of death in hospital vs readmission times (adm > 1)\n",
    "# same as above those who die outside of hospital\n",
    "\n",
    "admissions['admTime'] = pd.to_datetime(admissions['ADMITTIME'])\n",
    "admissions['dischTime'] = pd.to_datetime(admissions['DISCHTIME'])\n",
    "admissions['deathTime'] = pd.to_datetime(admissions['DEATHTIME'])\n",
    "admissions['losDays'] = admissions['dischTime'] - admissions['admTime']\n",
    "admissions['los'] = admissions['losDays'] / np.timedelta64(1, 'D')\n",
    "\n",
    "\n",
    "\n",
    "# @todo research Should we round it to floor or ceil??\n",
    "admissions['losRound'] = np.round(admissions['losDays'] / np.timedelta64(1, 'D'))"
   ]
  },
  {
   "cell_type": "code",
   "execution_count": 8,
   "metadata": {
    "collapsed": false
   },
   "outputs": [
    {
     "data": {
      "text/html": [
       "<div>\n",
       "<table border=\"1\" class=\"dataframe\">\n",
       "  <thead>\n",
       "    <tr style=\"text-align: right;\">\n",
       "      <th></th>\n",
       "      <th>ROW_ID</th>\n",
       "      <th>SUBJECT_ID</th>\n",
       "      <th>HADM_ID</th>\n",
       "      <th>ADMITTIME</th>\n",
       "      <th>DISCHTIME</th>\n",
       "      <th>DEATHTIME</th>\n",
       "      <th>ADMISSION_TYPE</th>\n",
       "      <th>ADMISSION_LOCATION</th>\n",
       "      <th>DISCHARGE_LOCATION</th>\n",
       "      <th>INSURANCE</th>\n",
       "      <th>...</th>\n",
       "      <th>EDOUTTIME</th>\n",
       "      <th>DIAGNOSIS</th>\n",
       "      <th>HOSPITAL_EXPIRE_FLAG</th>\n",
       "      <th>HAS_CHARTEVENTS_DATA</th>\n",
       "      <th>admTime</th>\n",
       "      <th>dischTime</th>\n",
       "      <th>deathTime</th>\n",
       "      <th>losDays</th>\n",
       "      <th>los</th>\n",
       "      <th>losRound</th>\n",
       "    </tr>\n",
       "  </thead>\n",
       "  <tbody>\n",
       "    <tr>\n",
       "      <th>0</th>\n",
       "      <td>21</td>\n",
       "      <td>22</td>\n",
       "      <td>165315</td>\n",
       "      <td>2196-04-09 12:26:00</td>\n",
       "      <td>2196-04-10 15:54:00</td>\n",
       "      <td>NaN</td>\n",
       "      <td>EMERGENCY</td>\n",
       "      <td>EMERGENCY ROOM ADMIT</td>\n",
       "      <td>DISC-TRAN CANCER/CHLDRN H</td>\n",
       "      <td>Private</td>\n",
       "      <td>...</td>\n",
       "      <td>2196-04-09 13:24:00</td>\n",
       "      <td>BENZODIAZEPINE OVERDOSE</td>\n",
       "      <td>0</td>\n",
       "      <td>1</td>\n",
       "      <td>2196-04-09 12:26:00</td>\n",
       "      <td>2196-04-10 15:54:00</td>\n",
       "      <td>NaT</td>\n",
       "      <td>1 days 03:28:00</td>\n",
       "      <td>1.144444</td>\n",
       "      <td>1.0</td>\n",
       "    </tr>\n",
       "    <tr>\n",
       "      <th>1</th>\n",
       "      <td>22</td>\n",
       "      <td>23</td>\n",
       "      <td>152223</td>\n",
       "      <td>2153-09-03 07:15:00</td>\n",
       "      <td>2153-09-08 19:10:00</td>\n",
       "      <td>NaN</td>\n",
       "      <td>ELECTIVE</td>\n",
       "      <td>PHYS REFERRAL/NORMAL DELI</td>\n",
       "      <td>HOME HEALTH CARE</td>\n",
       "      <td>Medicare</td>\n",
       "      <td>...</td>\n",
       "      <td>NaN</td>\n",
       "      <td>CORONARY ARTERY DISEASE\\CORONARY ARTERY BYPASS...</td>\n",
       "      <td>0</td>\n",
       "      <td>1</td>\n",
       "      <td>2153-09-03 07:15:00</td>\n",
       "      <td>2153-09-08 19:10:00</td>\n",
       "      <td>NaT</td>\n",
       "      <td>5 days 11:55:00</td>\n",
       "      <td>5.496528</td>\n",
       "      <td>5.0</td>\n",
       "    </tr>\n",
       "    <tr>\n",
       "      <th>2</th>\n",
       "      <td>23</td>\n",
       "      <td>23</td>\n",
       "      <td>124321</td>\n",
       "      <td>2157-10-18 19:34:00</td>\n",
       "      <td>2157-10-25 14:00:00</td>\n",
       "      <td>NaN</td>\n",
       "      <td>EMERGENCY</td>\n",
       "      <td>TRANSFER FROM HOSP/EXTRAM</td>\n",
       "      <td>HOME HEALTH CARE</td>\n",
       "      <td>Medicare</td>\n",
       "      <td>...</td>\n",
       "      <td>NaN</td>\n",
       "      <td>BRAIN MASS</td>\n",
       "      <td>0</td>\n",
       "      <td>1</td>\n",
       "      <td>2157-10-18 19:34:00</td>\n",
       "      <td>2157-10-25 14:00:00</td>\n",
       "      <td>NaT</td>\n",
       "      <td>6 days 18:26:00</td>\n",
       "      <td>6.768056</td>\n",
       "      <td>7.0</td>\n",
       "    </tr>\n",
       "    <tr>\n",
       "      <th>3</th>\n",
       "      <td>24</td>\n",
       "      <td>24</td>\n",
       "      <td>161859</td>\n",
       "      <td>2139-06-06 16:14:00</td>\n",
       "      <td>2139-06-09 12:48:00</td>\n",
       "      <td>NaN</td>\n",
       "      <td>EMERGENCY</td>\n",
       "      <td>TRANSFER FROM HOSP/EXTRAM</td>\n",
       "      <td>HOME</td>\n",
       "      <td>Private</td>\n",
       "      <td>...</td>\n",
       "      <td>NaN</td>\n",
       "      <td>INTERIOR MYOCARDIAL INFARCTION</td>\n",
       "      <td>0</td>\n",
       "      <td>1</td>\n",
       "      <td>2139-06-06 16:14:00</td>\n",
       "      <td>2139-06-09 12:48:00</td>\n",
       "      <td>NaT</td>\n",
       "      <td>2 days 20:34:00</td>\n",
       "      <td>2.856944</td>\n",
       "      <td>3.0</td>\n",
       "    </tr>\n",
       "    <tr>\n",
       "      <th>4</th>\n",
       "      <td>25</td>\n",
       "      <td>25</td>\n",
       "      <td>129635</td>\n",
       "      <td>2160-11-02 02:06:00</td>\n",
       "      <td>2160-11-05 14:55:00</td>\n",
       "      <td>NaN</td>\n",
       "      <td>EMERGENCY</td>\n",
       "      <td>EMERGENCY ROOM ADMIT</td>\n",
       "      <td>HOME</td>\n",
       "      <td>Private</td>\n",
       "      <td>...</td>\n",
       "      <td>2160-11-02 04:27:00</td>\n",
       "      <td>ACUTE CORONARY SYNDROME</td>\n",
       "      <td>0</td>\n",
       "      <td>1</td>\n",
       "      <td>2160-11-02 02:06:00</td>\n",
       "      <td>2160-11-05 14:55:00</td>\n",
       "      <td>NaT</td>\n",
       "      <td>3 days 12:49:00</td>\n",
       "      <td>3.534028</td>\n",
       "      <td>4.0</td>\n",
       "    </tr>\n",
       "  </tbody>\n",
       "</table>\n",
       "<p>5 rows × 25 columns</p>\n",
       "</div>"
      ],
      "text/plain": [
       "   ROW_ID  SUBJECT_ID  HADM_ID            ADMITTIME            DISCHTIME  \\\n",
       "0      21          22   165315  2196-04-09 12:26:00  2196-04-10 15:54:00   \n",
       "1      22          23   152223  2153-09-03 07:15:00  2153-09-08 19:10:00   \n",
       "2      23          23   124321  2157-10-18 19:34:00  2157-10-25 14:00:00   \n",
       "3      24          24   161859  2139-06-06 16:14:00  2139-06-09 12:48:00   \n",
       "4      25          25   129635  2160-11-02 02:06:00  2160-11-05 14:55:00   \n",
       "\n",
       "  DEATHTIME ADMISSION_TYPE         ADMISSION_LOCATION  \\\n",
       "0       NaN      EMERGENCY       EMERGENCY ROOM ADMIT   \n",
       "1       NaN       ELECTIVE  PHYS REFERRAL/NORMAL DELI   \n",
       "2       NaN      EMERGENCY  TRANSFER FROM HOSP/EXTRAM   \n",
       "3       NaN      EMERGENCY  TRANSFER FROM HOSP/EXTRAM   \n",
       "4       NaN      EMERGENCY       EMERGENCY ROOM ADMIT   \n",
       "\n",
       "          DISCHARGE_LOCATION INSURANCE   ...               EDOUTTIME  \\\n",
       "0  DISC-TRAN CANCER/CHLDRN H   Private   ...     2196-04-09 13:24:00   \n",
       "1           HOME HEALTH CARE  Medicare   ...                     NaN   \n",
       "2           HOME HEALTH CARE  Medicare   ...                     NaN   \n",
       "3                       HOME   Private   ...                     NaN   \n",
       "4                       HOME   Private   ...     2160-11-02 04:27:00   \n",
       "\n",
       "                                           DIAGNOSIS HOSPITAL_EXPIRE_FLAG  \\\n",
       "0                            BENZODIAZEPINE OVERDOSE                    0   \n",
       "1  CORONARY ARTERY DISEASE\\CORONARY ARTERY BYPASS...                    0   \n",
       "2                                         BRAIN MASS                    0   \n",
       "3                     INTERIOR MYOCARDIAL INFARCTION                    0   \n",
       "4                            ACUTE CORONARY SYNDROME                    0   \n",
       "\n",
       "  HAS_CHARTEVENTS_DATA             admTime           dischTime deathTime  \\\n",
       "0                    1 2196-04-09 12:26:00 2196-04-10 15:54:00       NaT   \n",
       "1                    1 2153-09-03 07:15:00 2153-09-08 19:10:00       NaT   \n",
       "2                    1 2157-10-18 19:34:00 2157-10-25 14:00:00       NaT   \n",
       "3                    1 2139-06-06 16:14:00 2139-06-09 12:48:00       NaT   \n",
       "4                    1 2160-11-02 02:06:00 2160-11-05 14:55:00       NaT   \n",
       "\n",
       "          losDays       los losRound  \n",
       "0 1 days 03:28:00  1.144444      1.0  \n",
       "1 5 days 11:55:00  5.496528      5.0  \n",
       "2 6 days 18:26:00  6.768056      7.0  \n",
       "3 2 days 20:34:00  2.856944      3.0  \n",
       "4 3 days 12:49:00  3.534028      4.0  \n",
       "\n",
       "[5 rows x 25 columns]"
      ]
     },
     "execution_count": 8,
     "metadata": {},
     "output_type": "execute_result"
    }
   ],
   "source": [
    "admissions.head(5)"
   ]
  },
  {
   "cell_type": "code",
   "execution_count": 19,
   "metadata": {
    "collapsed": false
   },
   "outputs": [
    {
     "name": "stdout",
     "output_type": "stream",
     "text": [
      "count    58976.000000\n",
      "mean        10.152706\n",
      "std         12.467928\n",
      "min         -1.000000\n",
      "25%          4.000000\n",
      "50%          6.000000\n",
      "75%         12.000000\n",
      "max        295.000000\n",
      "Name: losRound, dtype: float64\n"
     ]
    },
    {
     "data": {
      "text/plain": [
       "<matplotlib.axes._subplots.AxesSubplot at 0xc832c88>"
      ]
     },
     "execution_count": 19,
     "metadata": {},
     "output_type": "execute_result"
    },
    {
     "data": {
      "image/png": "[encoded data removed]",
      "text/plain": [
       "<matplotlib.figure.Figure at 0xb8f3128>"
      ]
     },
     "metadata": {},
     "output_type": "display_data"
    }
   ],
   "source": [
    "print admissions['losRound'].describe() #.plot(kind='bar', figsize = (15, 5)) \n",
    "admissions['losRound'].value_counts().plot(kind='bar', figsize = (15, 5)) \n",
    "\n",
    "##whoa... max 295?? are they chronic patients"
   ]
  },
  {
   "cell_type": "markdown",
   "metadata": {},
   "source": [
    "### EDREGTIME, EDOUTTIME\n",
    "\n",
    "Time that the patient was registered and discharged from the emergency department.\n",
    "\n"
   ]
  },
  {
   "cell_type": "code",
   "execution_count": 10,
   "metadata": {
    "collapsed": true
   },
   "outputs": [],
   "source": [
    "## How is this related to people dying?\n",
    "## Get LOS\n",
    "## If there are any correlation of it with other factors\n",
    "## A Linear model of LOS with dummy var after consolidating and cleaning the data\n",
    "admissions['regTime'] = pd.to_datetime(admissions['EDREGTIME'])\n",
    "admissions['outTime'] = pd.to_datetime(admissions['EDOUTTIME'])\n",
    "admissions['totalTimeStay'] =  np.round((admissions['outTime'] - admissions['regTime'])/np.timedelta64(1, 'D'))"
   ]
  },
  {
   "cell_type": "code",
   "execution_count": 20,
   "metadata": {
    "collapsed": false
   },
   "outputs": [
    {
     "name": "stdout",
     "output_type": "stream",
     "text": [
      "count    30877.000000\n",
      "mean         0.054571\n",
      "std          0.286425\n",
      "min        -29.000000\n",
      "25%               NaN\n",
      "50%               NaN\n",
      "75%               NaN\n",
      "max          3.000000\n",
      "Name: totalTimeStay, dtype: float64\n"
     ]
    },
    {
     "name": "stderr",
     "output_type": "stream",
     "text": [
      "C:\\Users\\Sahab\\Anaconda2\\lib\\site-packages\\numpy\\lib\\function_base.py:3834: RuntimeWarning: Invalid value encountered in percentile\n",
      "  RuntimeWarning)\n"
     ]
    },
    {
     "data": {
      "text/plain": [
       "<matplotlib.axes._subplots.AxesSubplot at 0x108b9940>"
      ]
     },
     "execution_count": 20,
     "metadata": {},
     "output_type": "execute_result"
    },
    {
     "data": {
      "image/png": "[encoded data removed]",
      "text/plain": [
       "<matplotlib.figure.Figure at 0xf429940>"
      ]
     },
     "metadata": {},
     "output_type": "display_data"
    }
   ],
   "source": [
    "print admissions['totalTimeStay'].describe() #.plot(kind='bar', figsize = (15, 5)) \n",
    "admissions['totalTimeStay'].value_counts().plot(kind='bar', figsize = (15, 5)) \n",
    "\n",
    "#makes sense to keep total hours in ICU instead of today days"
   ]
  },
  {
   "cell_type": "code",
   "execution_count": 31,
   "metadata": {
    "collapsed": false
   },
   "outputs": [
    {
     "name": "stdout",
     "output_type": "stream",
     "text": [
      "count    30877.000000\n",
      "mean         5.743952\n",
      "std          5.648792\n",
      "min       -696.000000\n",
      "25%               NaN\n",
      "50%               NaN\n",
      "75%               NaN\n",
      "max         70.000000\n",
      "Name: totalTimeStay, dtype: float64\n"
     ]
    },
    {
     "data": {
      "text/plain": [
       "<matplotlib.axes._subplots.AxesSubplot at 0x125cde80>"
      ]
     },
     "execution_count": 31,
     "metadata": {},
     "output_type": "execute_result"
    },
    {
     "data": {
      "image/png": "[encoded data removed]",
      "text/plain": [
       "<matplotlib.figure.Figure at 0x110110f0>"
      ]
     },
     "metadata": {},
     "output_type": "display_data"
    }
   ],
   "source": [
    "admissions['totalTimeStay'] =  np.round((admissions['outTime'] - admissions['regTime'])/np.timedelta64(1, 'h'))\n",
    "print admissions['totalTimeStay'].describe() #.plot(kind='bar', figsize = (15, 5)) \n",
    "admissions['totalTimeStay'].value_counts().head(10).plot(kind='bar', figsize = (15, 5)) "
   ]
  },
  {
   "cell_type": "markdown",
   "metadata": {},
   "source": [
    "### ADMISSION_LOCATION\n",
    "\n",
    "ADMISSION_LOCATION provides information about the previous location of the patient prior to arriving at the hospital. There are 9 possible values:\n",
    "\n",
    "EMERGENCY ROOM ADMIT,\n",
    "TRANSFER FROM HOSP/EXTRAM,\n",
    "TRANSFER FROM OTHER HEALT,\n",
    "CLINIC REFERRAL/PREMATURE,\n",
    "INFO NOT AVAILABLE,\n",
    "TRANSFER FROM SKILLED NUR,\n",
    "TRSF WITHIN THIS FACILITY,\n",
    "HMO REFERRAL/SICK,\n",
    "PHYS REFERRAL/NORMAL DELI\n",
    "\n",
    "The truncated text occurs in the raw data."
   ]
  },
  {
   "cell_type": "code",
   "execution_count": 88,
   "metadata": {
    "collapsed": false
   },
   "outputs": [
    {
     "data": {
      "text/plain": [
       "EMERGENCY ROOM ADMIT         22754\n",
       "PHYS REFERRAL/NORMAL DELI    15079\n",
       "CLINIC REFERRAL/PREMATURE    12032\n",
       "TRANSFER FROM HOSP/EXTRAM     8456\n",
       "TRANSFER FROM SKILLED NUR      273\n",
       "** INFO NOT AVAILABLE **       204\n",
       "HMO REFERRAL/SICK              102\n",
       "TRANSFER FROM OTHER HEALT       71\n",
       "TRSF WITHIN THIS FACILITY        5\n",
       "Name: ADMISSION_LOCATION, dtype: int64"
      ]
     },
     "execution_count": 88,
     "metadata": {},
     "output_type": "execute_result"
    }
   ],
   "source": [
    "#\n",
    "admissions.ADMISSION_LOCATION.value_counts()"
   ]
  },
  {
   "cell_type": "code",
   "execution_count": null,
   "metadata": {
    "collapsed": true
   },
   "outputs": [],
   "source": [
    "def consolidateLoc(row):\n",
    "    transfer = [\"TRANSFER FROM HOSP/EXTRAM\", \"TRANSFER FROM SKILLED NUR\", \"TRANSFER FROM OTHER HEALT\", \"TRSF WITHIN THIS FACILITY\"]\n",
    "    #referral let's keep normal and premature separate\n",
    "    if (row in transfer):\n",
    "        return \"TRANSFER\"\n",
    "    elif (row == 'HMO REFERRAL/SICK'):\n",
    "        return \"PHYS REFERRAL/NORMAL DELI\"\n",
    "    else:\n",
    "        return row\n",
    "    "
   ]
  },
  {
   "cell_type": "markdown",
   "metadata": {},
   "source": [
    "## DIAGNOSIS\n",
    "\n",
    "The DIAGNOSIS column provides a preliminary, free text diagnosis for the patient on hospital admission. The diagnosis is usually assigned by the admitting clincian and does not use a systematic ontology. As of MIMIC-III v1.0 there were 15,693 distinct diagnoses for 58,976 admissions. The diagnoses can be very informative (e.g. chronic kidney failure) or quite vague (e.g. weakness). Final diagnoses for hospital admissions are coded and can be found in the DIAGNOSES_ICD table."
   ]
  },
  {
   "cell_type": "markdown",
   "metadata": {},
   "source": [
    "### The diagnoses_icd table\n",
    "\n",
    "Table source: Hospital database.\n",
    "\n",
    "Table purpose: Contains ICD diagnoses for patients, most notably ICD-9 diagnoses.\n",
    "\n",
    "Number of rows: 651,047\n",
    "\n",
    "Links to:\n",
    "\n",
    "PATIENTS on SUBJECT_ID\n",
    "ADMISSIONS on HADM_ID\n",
    "D_ICD_DIAGNOSES on ICD9_CODE\n",
    "\n",
    "### The d_icd_diagnoses table\n",
    "\n",
    "Table source: Online sources.\n",
    "\n",
    "Table purpose: Definition table for ICD diagnoses.\n",
    "\n",
    "Number of rows: 14,567\n",
    "\n",
    "Links to:\n",
    "\n",
    "DIAGNOSES_ICD ON ICD9_CODE\n",
    "Brief summary\n",
    "\n",
    "This table defines International Classification of Diseases Version 9 (ICD-9) codes for diagnoses. These codes are assigned at the end of the patient’s stay and are used by the hospital to bill for care provided.\n",
    "\n"
   ]
  },
  {
   "cell_type": "code",
   "execution_count": 21,
   "metadata": {
    "collapsed": false
   },
   "outputs": [
    {
     "data": {
      "text/plain": [
       "NEWBORN                                                      7823\n",
       "PNEUMONIA                                                    1566\n",
       "SEPSIS                                                       1184\n",
       "CONGESTIVE HEART FAILURE                                      928\n",
       "CORONARY ARTERY DISEASE                                       840\n",
       "CHEST PAIN                                                    778\n",
       "INTRACRANIAL HEMORRHAGE                                       713\n",
       "ALTERED MENTAL STATUS                                         712\n",
       "GASTROINTESTINAL BLEED                                        686\n",
       "CORONARY ARTERY DISEASE\\CORONARY ARTERY BYPASS GRAFT /SDA     583\n",
       "UPPER GI BLEED                                                580\n",
       "ABDOMINAL PAIN                                                554\n",
       "FEVER                                                         510\n",
       "DIABETIC KETOACIDOSIS                                         462\n",
       "CORONARY ARTERY DISEASE\\CORONARY ARTERY BYPASS GRAFT/SDA      450\n",
       "S/P FALL                                                      444\n",
       "LOWER GI BLEED                                                442\n",
       "SUBARACHNOID HEMORRHAGE                                       440\n",
       "HYPOTENSION                                                   416\n",
       "STROKE;TELEMETRY;TRANSIENT ISCHEMIC ATTACK                    341\n",
       "SEIZURE                                                       297\n",
       "ACUTE RENAL FAILURE                                           270\n",
       "SUBDURAL HEMATOMA                                             260\n",
       "PANCREATITIS                                                  250\n",
       "RESPIRATORY FAILURE                                           247\n",
       "S/P MOTOR VEHICLE ACCIDENT                                    241\n",
       "DYSPNEA                                                       232\n",
       "SHORTNESS OF BREATH                                           229\n",
       "CORONARY ARTERY DISEASE\\CATH                                  227\n",
       "ACUTE CORONARY SYNDROME                                       225\n",
       "BLUNT TRAUMA                                                  222\n",
       "UPPER GASTROINTESTINAL BLEED                                  221\n",
       "OVERDOSE                                                      207\n",
       "ACUTE SUBDURAL HEMATOMA                                       197\n",
       "ASTHMA;COPD EXACERBATION                                      194\n",
       "LIVER FAILURE                                                 190\n",
       "MYOCARDIAL INFARCTION                                         177\n",
       "RESPIRATORY DISTRESS                                          168\n",
       "LOWER GASTROINTESTINAL BLEED                                  168\n",
       "CELLULITIS                                                    167\n",
       "CHEST PAIN\\CATH                                               167\n",
       "AORTIC STENOSIS\\AORTIC VALVE REPLACEMENT /SDA                 157\n",
       "ANEMIA                                                        156\n",
       "ACUTE MYOCARDIAL INFARCTION                                   155\n",
       "UNSTABLE ANGINA                                               152\n",
       "GI BLEED                                                      147\n",
       "HEAD BLEED                                                    144\n",
       "CARDIAC ARREST                                                142\n",
       "URINARY TRACT INFECTION;PYELONEPHRITIS                        136\n",
       "BRAIN TUMOR/SDA                                               133\n",
       "AORTIC DISSECTION                                             128\n",
       "HYPOXIA                                                       127\n",
       "CHOLANGITIS                                                   125\n",
       "HYPONATREMIA                                                  122\n",
       "BRAIN MASS                                                    121\n",
       "SMALL BOWEL OBSTRUCTION                                       119\n",
       "HEMOPTYSIS                                                    118\n",
       "WEAKNESS                                                      114\n",
       "STEMI                                                         113\n",
       "PULMONARY EMBOLIS                                             110\n",
       "Name: DIAGNOSIS, dtype: int64"
      ]
     },
     "execution_count": 21,
     "metadata": {},
     "output_type": "execute_result"
    }
   ],
   "source": [
    "#Lets explore diagnoses in admissions table\n",
    "\n",
    "#What are the top diagnoses\n",
    "\n",
    "diagnoses = admissions.DIAGNOSIS.value_counts()\n",
    "diagnoses.head(60)"
   ]
  },
  {
   "cell_type": "code",
   "execution_count": 25,
   "metadata": {
    "collapsed": false
   },
   "outputs": [
    {
     "data": {
      "text/plain": [
       "<matplotlib.axes._subplots.AxesSubplot at 0xd5ab0f0>"
      ]
     },
     "execution_count": 25,
     "metadata": {},
     "output_type": "execute_result"
    },
    {
     "data": {
      "image/png": "[encoded data removed]",
      "text/plain": [
       "<matplotlib.figure.Figure at 0xd6d12b0>"
      ]
     },
     "metadata": {},
     "output_type": "display_data"
    }
   ],
   "source": [
    "%matplotlib inline\n",
    "diagnoses.head(100).plot()"
   ]
  },
  {
   "cell_type": "code",
   "execution_count": 27,
   "metadata": {
    "collapsed": false
   },
   "outputs": [
    {
     "data": {
      "text/plain": [
       "<matplotlib.axes._subplots.AxesSubplot at 0xb3d02b0>"
      ]
     },
     "execution_count": 27,
     "metadata": {},
     "output_type": "execute_result"
    },
    {
     "data": {
      "image/png": "[encoded data removed]",
      "text/plain": [
       "<matplotlib.figure.Figure at 0xa4af2e8>"
      ]
     },
     "metadata": {},
     "output_type": "display_data"
    }
   ],
   "source": [
    "diagnoses.head(10).plot(kind='bar', figsize = (15, 5))"
   ]
  },
  {
   "cell_type": "code",
   "execution_count": 33,
   "metadata": {
    "collapsed": false
   },
   "outputs": [
    {
     "data": {
      "text/plain": [
       "13143"
      ]
     },
     "execution_count": 33,
     "metadata": {},
     "output_type": "execute_result"
    }
   ],
   "source": [
    "diagnoses[diagnoses == 1].count()"
   ]
  },
  {
   "cell_type": "code",
   "execution_count": 36,
   "metadata": {
    "collapsed": false
   },
   "outputs": [
    {
     "data": {
      "text/plain": [
       "1       13143\n",
       "2        1053\n",
       "3         408\n",
       "4         210\n",
       "5         129\n",
       "6         111\n",
       "7          79\n",
       "8          60\n",
       "9          41\n",
       "10         41\n",
       "11         36\n",
       "15         22\n",
       "17         21\n",
       "14         19\n",
       "12         16\n",
       "16         14\n",
       "13         14\n",
       "19         13\n",
       "23         12\n",
       "22         11\n",
       "28         11\n",
       "25          9\n",
       "32          8\n",
       "18          7\n",
       "20          7\n",
       "27          7\n",
       "21          6\n",
       "24          6\n",
       "46          5\n",
       "36          5\n",
       "        ...  \n",
       "119         1\n",
       "127         1\n",
       "207         1\n",
       "125         1\n",
       "109         1\n",
       "93          1\n",
       "147         1\n",
       "250         1\n",
       "442         1\n",
       "450         1\n",
       "554         1\n",
       "778         1\n",
       "43          1\n",
       "59          1\n",
       "75          1\n",
       "83          1\n",
       "247         1\n",
       "155         1\n",
       "69          1\n",
       "227         1\n",
       "76          1\n",
       "84          1\n",
       "108         1\n",
       "156         1\n",
       "260         1\n",
       "444         1\n",
       "580         1\n",
       "7823        1\n",
       "45          1\n",
       "99          1\n",
       "Name: DIAGNOSIS, dtype: int64"
      ]
     },
     "execution_count": 36,
     "metadata": {},
     "output_type": "execute_result"
    }
   ],
   "source": [
    "diagnoses.value_counts()"
   ]
  },
  {
   "cell_type": "markdown",
   "metadata": {},
   "source": [
    "## @todo USE diagnoses code to get the billing diagnoses and revisit these\n",
    "\n",
    "@todo LOOK at readmissions and los for these diagnoses"
   ]
  },
  {
   "cell_type": "markdown",
   "metadata": {},
   "source": [
    "## ADMISSION TYPE\n",
    "\n",
    "ADMISSION_TYPE describes the type of the admission: ‘ELECTIVE’, ‘URGENT’, ‘NEWBORN’ or ‘EMERGENCY’. Emergency/urgent indicate unplanned medical care, and are often collapsed into a single category in studies. Elective indicates a previously planned hospital admission. Newborn indicates that the HADM_ID pertains to the patient’s birth.4\n",
    "\n",
    "@todo get rid of newborn admission type\n",
    "@todo consolodate urgent and emergency -> Only two types of admissions"
   ]
  },
  {
   "cell_type": "code",
   "execution_count": 42,
   "metadata": {
    "collapsed": false
   },
   "outputs": [
    {
     "data": {
      "text/plain": [
       "<matplotlib.axes._subplots.AxesSubplot at 0xc1aa390>"
      ]
     },
     "execution_count": 42,
     "metadata": {},
     "output_type": "execute_result"
    },
    {
     "data": {
      "image/png": "[encoded data removed]",
      "text/plain": [
       "<matplotlib.figure.Figure at 0xb6d47b8>"
      ]
     },
     "metadata": {},
     "output_type": "display_data"
    }
   ],
   "source": [
    "#Lets explore admission type in admissions table\n",
    "\n",
    "admissions.ADMISSION_TYPE.value_counts().plot(kind='bar', figsize = (15, 5))\n",
    "\n",
    "##@@ todo create pivot table for top 10 diagnoses for each type\n",
    "#@todo LOOK at readmissions and los for these types"
   ]
  },
  {
   "cell_type": "markdown",
   "metadata": {},
   "source": [
    "## Other attributes\n",
    "\n",
    "INSURANCE, LANGUAGE, RELIGION, MARITAL_STATUS, ETHNICITY\n",
    "\n",
    "The INSURANCE, LANGUAGE, RELIGION, MARITAL_STATUS, ETHNICITY columns describe patient demographics. These columns occur in the ADMISSIONS table as they are originally sourced from the admission, discharge, and transfers (ADT) data from the hospital database. The values occasionally change between hospital admissions (HADM_ID) for a single patient (SUBJECT_ID). This is reasonable for some fields (e.g. MARITAL_STATUS, RELIGION), but less reasonable for others (e.g. ETHNICITY).\n",
    "\n",
    "@todo if marital_status /religion change has any effect\n",
    "\n",
    "#### Religion"
   ]
  },
  {
   "cell_type": "code",
   "execution_count": 43,
   "metadata": {
    "collapsed": false
   },
   "outputs": [
    {
     "data": {
      "text/plain": [
       "<matplotlib.axes._subplots.AxesSubplot at 0xe8d33c8>"
      ]
     },
     "execution_count": 43,
     "metadata": {},
     "output_type": "execute_result"
    },
    {
     "data": {
      "image/png": "[encoded data removed]",
      "text/plain": [
       "<matplotlib.figure.Figure at 0x9435978>"
      ]
     },
     "metadata": {},
     "output_type": "display_data"
    }
   ],
   "source": [
    "admissions.RELIGIONHAS_CHARTEVENTS_DATA        2"
   ]
  },
  {
   "cell_type": "code",
   "execution_count": 33,
   "metadata": {
    "collapsed": false
   },
   "outputs": [
    {
     "data": {
      "text/plain": [
       "<matplotlib.axes._subplots.AxesSubplot at 0x131d8470>"
      ]
     },
     "execution_count": 33,
     "metadata": {},
     "output_type": "execute_result"
    },
    {
     "data": {
      "image/png": "[encoded data removed]",
      "text/plain": [
       "<matplotlib.figure.Figure at 0x10912e10>"
      ]
     },
     "metadata": {},
     "output_type": "display_data"
    }
   ],
   "source": [
    "admissions.RELIGION.value_counts().tail(12).plot(kind='bar', figsize = (15, 5))"
   ]
  },
  {
   "cell_type": "markdown",
   "metadata": {},
   "source": [
    "#### INSURANCE"
   ]
  },
  {
   "cell_type": "code",
   "execution_count": 45,
   "metadata": {
    "collapsed": false
   },
   "outputs": [
    {
     "data": {
      "text/plain": [
       "<matplotlib.axes._subplots.AxesSubplot at 0xeb170f0>"
      ]
     },
     "execution_count": 45,
     "metadata": {},
     "output_type": "execute_result"
    },
    {
     "data": {
      "image/png": "[encoded data removed]",
      "text/plain": [
       "<matplotlib.figure.Figure at 0xd8a04a8>"
      ]
     },
     "metadata": {},
     "output_type": "display_data"
    }
   ],
   "source": [
    "admissions.INSURANCE.value_counts().plot(kind='bar', figsize = (15, 5))"
   ]
  },
  {
   "cell_type": "code",
   "execution_count": 47,
   "metadata": {
    "collapsed": false
   },
   "outputs": [
    {
     "data": {
      "text/plain": [
       "<matplotlib.axes._subplots.AxesSubplot at 0xf19b400>"
      ]
     },
     "execution_count": 47,
     "metadata": {},
     "output_type": "execute_result"
    },
    {
     "data": {
      "image/png": "[encoded data removed]",
      "text/plain": [
       "<matplotlib.figure.Figure at 0xa602390>"
      ]
     },
     "metadata": {},
     "output_type": "display_data"
    }
   ],
   "source": [
    "admissions.ETHNICITY.value_counts().plot(kind='bar', figsize = (15, 5))"
   ]
  },
  {
   "cell_type": "code",
   "execution_count": 34,
   "metadata": {
    "collapsed": false
   },
   "outputs": [
    {
     "data": {
      "text/plain": [
       "<matplotlib.axes._subplots.AxesSubplot at 0x13354550>"
      ]
     },
     "execution_count": 34,
     "metadata": {},
     "output_type": "execute_result"
    },
    {
     "data": {
      "image/png": "[encoded data removed]",
      "text/plain": [
       "<matplotlib.figure.Figure at 0x1091cf28>"
      ]
     },
     "metadata": {},
     "output_type": "display_data"
    }
   ],
   "source": [
    "admissions.ETHNICITY.value_counts().tail(15).plot(kind='bar', figsize = (15, 5))"
   ]
  },
  {
   "cell_type": "code",
   "execution_count": 49,
   "metadata": {
    "collapsed": false
   },
   "outputs": [
    {
     "data": {
      "text/plain": [
       "<matplotlib.axes._subplots.AxesSubplot at 0xf5f5a58>"
      ]
     },
     "execution_count": 49,
     "metadata": {},
     "output_type": "execute_result"
    },
    {
     "data": {
      "image/png": "[encoded data removed]",
      "text/plain": [
       "<matplotlib.figure.Figure at 0xbb42cf8>"
      ]
     },
     "metadata": {},
     "output_type": "display_data"
    }
   ],
   "source": [
    "admissions.MARITAL_STATUS.value_counts().plot(kind='bar', figsize = (15, 5))"
   ]
  },
  {
   "cell_type": "code",
   "execution_count": 51,
   "metadata": {
    "collapsed": false
   },
   "outputs": [
    {
     "data": {
      "text/plain": [
       "ENGL    29086\n",
       "SPAN     1083\n",
       "RUSS      790\n",
       "PTUN      628\n",
       "CANT      413\n",
       "PORT      342\n",
       "CAPE      256\n",
       "MAND      156\n",
       "HAIT      150\n",
       "ITAL      124\n",
       "VIET       94\n",
       "GREE       75\n",
       "ARAB       47\n",
       "PERS       44\n",
       "CAMB       37\n",
       "POLI       34\n",
       "AMER       31\n",
       "HIND       24\n",
       "KORE       23\n",
       "ALBA       17\n",
       "FREN       16\n",
       "SOMA       13\n",
       "THAI       12\n",
       "ETHI       11\n",
       "*ARM        9\n",
       "*BEN        7\n",
       "*YID        7\n",
       "LAOT        7\n",
       "*HUN        7\n",
       "*CHI        7\n",
       "        ...  \n",
       "*FUL        2\n",
       "*TOI        2\n",
       "*AMH        2\n",
       "BENG        2\n",
       "*KHM        2\n",
       "*TOY        2\n",
       "TURK        2\n",
       "*DUT        2\n",
       "**SH        2\n",
       "* BE        2\n",
       "*PER        1\n",
       "*TAM        1\n",
       "*LIT        1\n",
       "** T        1\n",
       "*NEP        1\n",
       "*ROM        1\n",
       "*BOS        1\n",
       "*PHI        1\n",
       "* FU        1\n",
       "*PUN        1\n",
       "*CRE        1\n",
       "GERM        1\n",
       "*ARA        1\n",
       "*FIL        1\n",
       "*DEA        1\n",
       "*YOR        1\n",
       "SERB        1\n",
       "*RUS        1\n",
       "*SPA        1\n",
       "*FAR        1\n",
       "Name: LANGUAGE, dtype: int64"
      ]
     },
     "execution_count": 51,
     "metadata": {},
     "output_type": "execute_result"
    }
   ],
   "source": [
    "admissions.LANGUAGE.value_counts()"
   ]
  },
  {
   "cell_type": "code",
   "execution_count": 55,
   "metadata": {
    "collapsed": false
   },
   "outputs": [
    {
     "data": {
      "text/plain": [
       "1    57384\n",
       "0     1592\n",
       "Name: HAS_CHARTEVENTS_DATA, dtype: int64"
      ]
     },
     "execution_count": 55,
     "metadata": {},
     "output_type": "execute_result"
    }
   ],
   "source": [
    "admissions.HAS_CHARTEVENTS_DATA.value_counts()\n",
    "#admissions.head(1)"
   ]
  },
  {
   "cell_type": "code",
   "execution_count": 62,
   "metadata": {
    "collapsed": false
   },
   "outputs": [
    {
     "data": {
      "text/html": [
       "<div>\n",
       "<table border=\"1\" class=\"dataframe\">\n",
       "  <thead>\n",
       "    <tr style=\"text-align: right;\">\n",
       "      <th></th>\n",
       "      <th>ROW_ID</th>\n",
       "      <th>SUBJECT_ID</th>\n",
       "      <th>HADM_ID</th>\n",
       "      <th>ADMITTIME</th>\n",
       "      <th>DISCHTIME</th>\n",
       "      <th>DEATHTIME</th>\n",
       "      <th>ADMISSION_TYPE</th>\n",
       "      <th>ADMISSION_LOCATION</th>\n",
       "      <th>DISCHARGE_LOCATION</th>\n",
       "      <th>INSURANCE</th>\n",
       "      <th>LANGUAGE</th>\n",
       "      <th>RELIGION</th>\n",
       "      <th>MARITAL_STATUS</th>\n",
       "      <th>ETHNICITY</th>\n",
       "      <th>EDREGTIME</th>\n",
       "      <th>EDOUTTIME</th>\n",
       "      <th>DIAGNOSIS</th>\n",
       "      <th>HOSPITAL_EXPIRE_FLAG</th>\n",
       "      <th>HAS_CHARTEVENTS_DATA</th>\n",
       "    </tr>\n",
       "  </thead>\n",
       "  <tbody>\n",
       "    <tr>\n",
       "      <th>69</th>\n",
       "      <td>67</td>\n",
       "      <td>67</td>\n",
       "      <td>186474</td>\n",
       "      <td>2155-02-25 12:45:00</td>\n",
       "      <td>2155-03-06 15:00:00</td>\n",
       "      <td>NaN</td>\n",
       "      <td>URGENT</td>\n",
       "      <td>PHYS REFERRAL/NORMAL DELI</td>\n",
       "      <td>SNF</td>\n",
       "      <td>Medicare</td>\n",
       "      <td>NaN</td>\n",
       "      <td>JEWISH</td>\n",
       "      <td>SINGLE</td>\n",
       "      <td>WHITE</td>\n",
       "      <td>NaN</td>\n",
       "      <td>NaN</td>\n",
       "      <td>INCISIONAL HERNIA</td>\n",
       "      <td>0</td>\n",
       "      <td>0</td>\n",
       "    </tr>\n",
       "    <tr>\n",
       "      <th>87</th>\n",
       "      <td>85</td>\n",
       "      <td>84</td>\n",
       "      <td>120969</td>\n",
       "      <td>2196-02-02 07:15:00</td>\n",
       "      <td>2196-02-04 17:48:00</td>\n",
       "      <td>NaN</td>\n",
       "      <td>ELECTIVE</td>\n",
       "      <td>PHYS REFERRAL/NORMAL DELI</td>\n",
       "      <td>HOME</td>\n",
       "      <td>Private</td>\n",
       "      <td>NaN</td>\n",
       "      <td>OTHER</td>\n",
       "      <td>MARRIED</td>\n",
       "      <td>WHITE</td>\n",
       "      <td>NaN</td>\n",
       "      <td>NaN</td>\n",
       "      <td>MEDIAL PARIETAL TUMOR/SDA</td>\n",
       "      <td>0</td>\n",
       "      <td>0</td>\n",
       "    </tr>\n",
       "    <tr>\n",
       "      <th>143</th>\n",
       "      <td>182</td>\n",
       "      <td>135</td>\n",
       "      <td>199634</td>\n",
       "      <td>2174-05-17 09:00:00</td>\n",
       "      <td>2174-05-21 14:00:00</td>\n",
       "      <td>NaN</td>\n",
       "      <td>ELECTIVE</td>\n",
       "      <td>PHYS REFERRAL/NORMAL DELI</td>\n",
       "      <td>HOME HEALTH CARE</td>\n",
       "      <td>Private</td>\n",
       "      <td>NaN</td>\n",
       "      <td>PROTESTANT QUAKER</td>\n",
       "      <td>DIVORCED</td>\n",
       "      <td>WHITE</td>\n",
       "      <td>NaN</td>\n",
       "      <td>NaN</td>\n",
       "      <td>THORACIC MYELOPATHY/SDA</td>\n",
       "      <td>0</td>\n",
       "      <td>0</td>\n",
       "    </tr>\n",
       "    <tr>\n",
       "      <th>231</th>\n",
       "      <td>379</td>\n",
       "      <td>299</td>\n",
       "      <td>175259</td>\n",
       "      <td>2176-06-26 10:45:00</td>\n",
       "      <td>2176-06-29 17:30:00</td>\n",
       "      <td>NaN</td>\n",
       "      <td>NEWBORN</td>\n",
       "      <td>PHYS REFERRAL/NORMAL DELI</td>\n",
       "      <td>HOME</td>\n",
       "      <td>Government</td>\n",
       "      <td>ENGL</td>\n",
       "      <td>UNOBTAINABLE</td>\n",
       "      <td>SINGLE</td>\n",
       "      <td>ASIAN</td>\n",
       "      <td>NaN</td>\n",
       "      <td>NaN</td>\n",
       "      <td>NEWBORN</td>\n",
       "      <td>0</td>\n",
       "      <td>0</td>\n",
       "    </tr>\n",
       "    <tr>\n",
       "      <th>261</th>\n",
       "      <td>409</td>\n",
       "      <td>323</td>\n",
       "      <td>192631</td>\n",
       "      <td>2115-05-17 21:06:00</td>\n",
       "      <td>2115-05-27 13:30:00</td>\n",
       "      <td>NaN</td>\n",
       "      <td>EMERGENCY</td>\n",
       "      <td>EMERGENCY ROOM ADMIT</td>\n",
       "      <td>SHORT TERM HOSPITAL</td>\n",
       "      <td>Medicare</td>\n",
       "      <td>NaN</td>\n",
       "      <td>CATHOLIC</td>\n",
       "      <td>WIDOWED</td>\n",
       "      <td>WHITE</td>\n",
       "      <td>2115-05-17 13:40:00</td>\n",
       "      <td>2115-05-17 22:37:00</td>\n",
       "      <td>ACUTE MI</td>\n",
       "      <td>0</td>\n",
       "      <td>0</td>\n",
       "    </tr>\n",
       "    <tr>\n",
       "      <th>272</th>\n",
       "      <td>420</td>\n",
       "      <td>330</td>\n",
       "      <td>184134</td>\n",
       "      <td>2132-01-15 07:15:00</td>\n",
       "      <td>2132-01-17 10:30:00</td>\n",
       "      <td>NaN</td>\n",
       "      <td>ELECTIVE</td>\n",
       "      <td>PHYS REFERRAL/NORMAL DELI</td>\n",
       "      <td>HOME</td>\n",
       "      <td>Private</td>\n",
       "      <td>NaN</td>\n",
       "      <td>CATHOLIC</td>\n",
       "      <td>SINGLE</td>\n",
       "      <td>WHITE</td>\n",
       "      <td>NaN</td>\n",
       "      <td>NaN</td>\n",
       "      <td>ABDOMINAL AORTIC ANEURYSM/SDA</td>\n",
       "      <td>0</td>\n",
       "      <td>0</td>\n",
       "    </tr>\n",
       "    <tr>\n",
       "      <th>298</th>\n",
       "      <td>446</td>\n",
       "      <td>352</td>\n",
       "      <td>152913</td>\n",
       "      <td>2145-04-07 03:32:00</td>\n",
       "      <td>2145-04-14 13:19:00</td>\n",
       "      <td>NaN</td>\n",
       "      <td>EMERGENCY</td>\n",
       "      <td>EMERGENCY ROOM ADMIT</td>\n",
       "      <td>HOME HEALTH CARE</td>\n",
       "      <td>Medicare</td>\n",
       "      <td>NaN</td>\n",
       "      <td>CATHOLIC</td>\n",
       "      <td>SEPARATED</td>\n",
       "      <td>WHITE</td>\n",
       "      <td>2145-04-07 01:49:00</td>\n",
       "      <td>2145-04-07 04:32:00</td>\n",
       "      <td>LT LEG ISCHEMIA</td>\n",
       "      <td>0</td>\n",
       "      <td>0</td>\n",
       "    </tr>\n",
       "    <tr>\n",
       "      <th>368</th>\n",
       "      <td>638</td>\n",
       "      <td>510</td>\n",
       "      <td>166097</td>\n",
       "      <td>2150-11-11 19:36:00</td>\n",
       "      <td>2150-11-13 17:00:00</td>\n",
       "      <td>NaN</td>\n",
       "      <td>EMERGENCY</td>\n",
       "      <td>EMERGENCY ROOM ADMIT</td>\n",
       "      <td>HOME</td>\n",
       "      <td>Medicaid</td>\n",
       "      <td>ENGL</td>\n",
       "      <td>PROTESTANT QUAKER</td>\n",
       "      <td>SINGLE</td>\n",
       "      <td>BLACK/AFRICAN AMERICAN</td>\n",
       "      <td>2150-11-11 17:47:00</td>\n",
       "      <td>2150-11-11 22:25:00</td>\n",
       "      <td>UNRESPONSIVE</td>\n",
       "      <td>0</td>\n",
       "      <td>0</td>\n",
       "    </tr>\n",
       "    <tr>\n",
       "      <th>481</th>\n",
       "      <td>262</td>\n",
       "      <td>198</td>\n",
       "      <td>139848</td>\n",
       "      <td>2182-07-31 12:30:00</td>\n",
       "      <td>2182-08-02 13:00:00</td>\n",
       "      <td>NaN</td>\n",
       "      <td>ELECTIVE</td>\n",
       "      <td>PHYS REFERRAL/NORMAL DELI</td>\n",
       "      <td>HOME</td>\n",
       "      <td>Medicare</td>\n",
       "      <td>NaN</td>\n",
       "      <td>CATHOLIC</td>\n",
       "      <td>MARRIED</td>\n",
       "      <td>WHITE</td>\n",
       "      <td>NaN</td>\n",
       "      <td>NaN</td>\n",
       "      <td>ANEURYSM/SDA</td>\n",
       "      <td>0</td>\n",
       "      <td>0</td>\n",
       "    </tr>\n",
       "    <tr>\n",
       "      <th>549</th>\n",
       "      <td>330</td>\n",
       "      <td>256</td>\n",
       "      <td>155415</td>\n",
       "      <td>2163-07-26 10:30:00</td>\n",
       "      <td>2163-08-02 14:14:00</td>\n",
       "      <td>NaN</td>\n",
       "      <td>ELECTIVE</td>\n",
       "      <td>PHYS REFERRAL/NORMAL DELI</td>\n",
       "      <td>HOME HEALTH CARE</td>\n",
       "      <td>Medicare</td>\n",
       "      <td>NaN</td>\n",
       "      <td>NOT SPECIFIED</td>\n",
       "      <td>MARRIED</td>\n",
       "      <td>WHITE</td>\n",
       "      <td>NaN</td>\n",
       "      <td>NaN</td>\n",
       "      <td>ABDOMINAL AORTIC ANEURYSM/SDA</td>\n",
       "      <td>0</td>\n",
       "      <td>0</td>\n",
       "    </tr>\n",
       "    <tr>\n",
       "      <th>582</th>\n",
       "      <td>363</td>\n",
       "      <td>286</td>\n",
       "      <td>135917</td>\n",
       "      <td>2176-04-10 20:45:00</td>\n",
       "      <td>2176-04-12 16:41:00</td>\n",
       "      <td>NaN</td>\n",
       "      <td>EMERGENCY</td>\n",
       "      <td>TRANSFER FROM HOSP/EXTRAM</td>\n",
       "      <td>REHAB/DISTINCT PART HOSP</td>\n",
       "      <td>Medicare</td>\n",
       "      <td>NaN</td>\n",
       "      <td>CATHOLIC</td>\n",
       "      <td>WIDOWED</td>\n",
       "      <td>WHITE</td>\n",
       "      <td>NaN</td>\n",
       "      <td>NaN</td>\n",
       "      <td>INFECTED RIGHT FOOT</td>\n",
       "      <td>0</td>\n",
       "      <td>0</td>\n",
       "    </tr>\n",
       "    <tr>\n",
       "      <th>597</th>\n",
       "      <td>378</td>\n",
       "      <td>298</td>\n",
       "      <td>119686</td>\n",
       "      <td>2140-09-29 12:55:00</td>\n",
       "      <td>2140-10-07 13:37:00</td>\n",
       "      <td>NaN</td>\n",
       "      <td>EMERGENCY</td>\n",
       "      <td>EMERGENCY ROOM ADMIT</td>\n",
       "      <td>HOME HEALTH CARE</td>\n",
       "      <td>Medicare</td>\n",
       "      <td>RUSS</td>\n",
       "      <td>UNITARIAN-UNIVERSALIST</td>\n",
       "      <td>SINGLE</td>\n",
       "      <td>WHITE</td>\n",
       "      <td>2140-09-29 02:26:00</td>\n",
       "      <td>2140-09-29 13:51:00</td>\n",
       "      <td>SMALL BOWEL OBSTRUCTION</td>\n",
       "      <td>0</td>\n",
       "      <td>0</td>\n",
       "    </tr>\n",
       "    <tr>\n",
       "      <th>635</th>\n",
       "      <td>1122</td>\n",
       "      <td>904</td>\n",
       "      <td>115746</td>\n",
       "      <td>2109-08-11 23:47:00</td>\n",
       "      <td>2109-08-13 08:00:00</td>\n",
       "      <td>NaN</td>\n",
       "      <td>EMERGENCY</td>\n",
       "      <td>EMERGENCY ROOM ADMIT</td>\n",
       "      <td>LEFT AGAINST MEDICAL ADVI</td>\n",
       "      <td>Medicaid</td>\n",
       "      <td>NaN</td>\n",
       "      <td>NOT SPECIFIED</td>\n",
       "      <td>SINGLE</td>\n",
       "      <td>WHITE</td>\n",
       "      <td>2109-08-11 21:28:00</td>\n",
       "      <td>2109-08-12 00:35:00</td>\n",
       "      <td>DEXTROMETHORPHAN OD</td>\n",
       "      <td>0</td>\n",
       "      <td>0</td>\n",
       "    </tr>\n",
       "    <tr>\n",
       "      <th>692</th>\n",
       "      <td>644</td>\n",
       "      <td>516</td>\n",
       "      <td>187482</td>\n",
       "      <td>2197-07-31 20:18:00</td>\n",
       "      <td>2197-07-31 01:10:00</td>\n",
       "      <td>2197-07-31 01:10:00</td>\n",
       "      <td>EMERGENCY</td>\n",
       "      <td>EMERGENCY ROOM ADMIT</td>\n",
       "      <td>DEAD/EXPIRED</td>\n",
       "      <td>Medicare</td>\n",
       "      <td>NaN</td>\n",
       "      <td>JEWISH</td>\n",
       "      <td>WIDOWED</td>\n",
       "      <td>UNKNOWN/NOT SPECIFIED</td>\n",
       "      <td>2197-07-31 11:31:00</td>\n",
       "      <td>2197-07-31 14:35:00</td>\n",
       "      <td>RESPIRATORY DISTRESS</td>\n",
       "      <td>1</td>\n",
       "      <td>0</td>\n",
       "    </tr>\n",
       "    <tr>\n",
       "      <th>719</th>\n",
       "      <td>715</td>\n",
       "      <td>573</td>\n",
       "      <td>169615</td>\n",
       "      <td>2197-11-26 16:32:00</td>\n",
       "      <td>2197-11-28 11:15:00</td>\n",
       "      <td>NaN</td>\n",
       "      <td>EMERGENCY</td>\n",
       "      <td>PHYS REFERRAL/NORMAL DELI</td>\n",
       "      <td>HOME</td>\n",
       "      <td>Government</td>\n",
       "      <td>NaN</td>\n",
       "      <td>NOT SPECIFIED</td>\n",
       "      <td>NaN</td>\n",
       "      <td>OTHER</td>\n",
       "      <td>NaN</td>\n",
       "      <td>NaN</td>\n",
       "      <td>HYPERBILIRUBINEMIA</td>\n",
       "      <td>0</td>\n",
       "      <td>0</td>\n",
       "    </tr>\n",
       "    <tr>\n",
       "      <th>721</th>\n",
       "      <td>717</td>\n",
       "      <td>576</td>\n",
       "      <td>126705</td>\n",
       "      <td>2126-03-18 22:12:00</td>\n",
       "      <td>2126-03-26 17:30:00</td>\n",
       "      <td>NaN</td>\n",
       "      <td>EMERGENCY</td>\n",
       "      <td>EMERGENCY ROOM ADMIT</td>\n",
       "      <td>REHAB/DISTINCT PART HOSP</td>\n",
       "      <td>Medicare</td>\n",
       "      <td>NaN</td>\n",
       "      <td>CATHOLIC</td>\n",
       "      <td>MARRIED</td>\n",
       "      <td>WHITE</td>\n",
       "      <td>2126-03-18 20:33:00</td>\n",
       "      <td>2126-03-18 23:00:00</td>\n",
       "      <td>BRONCHIAL LAVAGE/SPINAL DETRUSOR HYPERREFLEXIA</td>\n",
       "      <td>0</td>\n",
       "      <td>0</td>\n",
       "    </tr>\n",
       "    <tr>\n",
       "      <th>781</th>\n",
       "      <td>777</td>\n",
       "      <td>630</td>\n",
       "      <td>129849</td>\n",
       "      <td>2111-10-29 07:15:00</td>\n",
       "      <td>2111-10-31 16:55:00</td>\n",
       "      <td>NaN</td>\n",
       "      <td>ELECTIVE</td>\n",
       "      <td>PHYS REFERRAL/NORMAL DELI</td>\n",
       "      <td>HOME</td>\n",
       "      <td>Private</td>\n",
       "      <td>NaN</td>\n",
       "      <td>CATHOLIC</td>\n",
       "      <td>MARRIED</td>\n",
       "      <td>WHITE</td>\n",
       "      <td>NaN</td>\n",
       "      <td>NaN</td>\n",
       "      <td>CLOTACATION/SDA</td>\n",
       "      <td>0</td>\n",
       "      <td>0</td>\n",
       "    </tr>\n",
       "    <tr>\n",
       "      <th>797</th>\n",
       "      <td>793</td>\n",
       "      <td>639</td>\n",
       "      <td>142607</td>\n",
       "      <td>2115-08-26 21:52:00</td>\n",
       "      <td>2115-08-30 14:30:00</td>\n",
       "      <td>NaN</td>\n",
       "      <td>EMERGENCY</td>\n",
       "      <td>EMERGENCY ROOM ADMIT</td>\n",
       "      <td>HOME HEALTH CARE</td>\n",
       "      <td>Medicare</td>\n",
       "      <td>ENGL</td>\n",
       "      <td>CATHOLIC</td>\n",
       "      <td>SINGLE</td>\n",
       "      <td>WHITE</td>\n",
       "      <td>2115-08-26 15:56:00</td>\n",
       "      <td>2115-08-27 16:24:00</td>\n",
       "      <td>SEIZURE;TELEMETRY</td>\n",
       "      <td>0</td>\n",
       "      <td>0</td>\n",
       "    </tr>\n",
       "    <tr>\n",
       "      <th>803</th>\n",
       "      <td>799</td>\n",
       "      <td>644</td>\n",
       "      <td>124257</td>\n",
       "      <td>2130-05-18 07:24:00</td>\n",
       "      <td>2130-05-26 14:30:00</td>\n",
       "      <td>NaN</td>\n",
       "      <td>EMERGENCY</td>\n",
       "      <td>EMERGENCY ROOM ADMIT</td>\n",
       "      <td>HOME HEALTH CARE</td>\n",
       "      <td>Medicare</td>\n",
       "      <td>NaN</td>\n",
       "      <td>NOT SPECIFIED</td>\n",
       "      <td>MARRIED</td>\n",
       "      <td>ASIAN</td>\n",
       "      <td>2130-05-18 03:11:00</td>\n",
       "      <td>2130-05-18 12:26:00</td>\n",
       "      <td>HYPOTHERMIA/SEIZURE</td>\n",
       "      <td>0</td>\n",
       "      <td>0</td>\n",
       "    </tr>\n",
       "    <tr>\n",
       "      <th>845</th>\n",
       "      <td>673</td>\n",
       "      <td>535</td>\n",
       "      <td>120138</td>\n",
       "      <td>2179-06-23 09:56:00</td>\n",
       "      <td>2179-06-27 10:58:00</td>\n",
       "      <td>NaN</td>\n",
       "      <td>NEWBORN</td>\n",
       "      <td>PHYS REFERRAL/NORMAL DELI</td>\n",
       "      <td>HOME</td>\n",
       "      <td>Private</td>\n",
       "      <td>NaN</td>\n",
       "      <td>OTHER</td>\n",
       "      <td>NaN</td>\n",
       "      <td>WHITE</td>\n",
       "      <td>NaN</td>\n",
       "      <td>NaN</td>\n",
       "      <td>NEWBORN</td>\n",
       "      <td>0</td>\n",
       "      <td>0</td>\n",
       "    </tr>\n",
       "  </tbody>\n",
       "</table>\n",
       "</div>"
      ],
      "text/plain": [
       "     ROW_ID  SUBJECT_ID  HADM_ID            ADMITTIME            DISCHTIME  \\\n",
       "69       67          67   186474  2155-02-25 12:45:00  2155-03-06 15:00:00   \n",
       "87       85          84   120969  2196-02-02 07:15:00  2196-02-04 17:48:00   \n",
       "143     182         135   199634  2174-05-17 09:00:00  2174-05-21 14:00:00   \n",
       "231     379         299   175259  2176-06-26 10:45:00  2176-06-29 17:30:00   \n",
       "261     409         323   192631  2115-05-17 21:06:00  2115-05-27 13:30:00   \n",
       "272     420         330   184134  2132-01-15 07:15:00  2132-01-17 10:30:00   \n",
       "298     446         352   152913  2145-04-07 03:32:00  2145-04-14 13:19:00   \n",
       "368     638         510   166097  2150-11-11 19:36:00  2150-11-13 17:00:00   \n",
       "481     262         198   139848  2182-07-31 12:30:00  2182-08-02 13:00:00   \n",
       "549     330         256   155415  2163-07-26 10:30:00  2163-08-02 14:14:00   \n",
       "582     363         286   135917  2176-04-10 20:45:00  2176-04-12 16:41:00   \n",
       "597     378         298   119686  2140-09-29 12:55:00  2140-10-07 13:37:00   \n",
       "635    1122         904   115746  2109-08-11 23:47:00  2109-08-13 08:00:00   \n",
       "692     644         516   187482  2197-07-31 20:18:00  2197-07-31 01:10:00   \n",
       "719     715         573   169615  2197-11-26 16:32:00  2197-11-28 11:15:00   \n",
       "721     717         576   126705  2126-03-18 22:12:00  2126-03-26 17:30:00   \n",
       "781     777         630   129849  2111-10-29 07:15:00  2111-10-31 16:55:00   \n",
       "797     793         639   142607  2115-08-26 21:52:00  2115-08-30 14:30:00   \n",
       "803     799         644   124257  2130-05-18 07:24:00  2130-05-26 14:30:00   \n",
       "845     673         535   120138  2179-06-23 09:56:00  2179-06-27 10:58:00   \n",
       "\n",
       "               DEATHTIME ADMISSION_TYPE         ADMISSION_LOCATION  \\\n",
       "69                   NaN         URGENT  PHYS REFERRAL/NORMAL DELI   \n",
       "87                   NaN       ELECTIVE  PHYS REFERRAL/NORMAL DELI   \n",
       "143                  NaN       ELECTIVE  PHYS REFERRAL/NORMAL DELI   \n",
       "231                  NaN        NEWBORN  PHYS REFERRAL/NORMAL DELI   \n",
       "261                  NaN      EMERGENCY       EMERGENCY ROOM ADMIT   \n",
       "272                  NaN       ELECTIVE  PHYS REFERRAL/NORMAL DELI   \n",
       "298                  NaN      EMERGENCY       EMERGENCY ROOM ADMIT   \n",
       "368                  NaN      EMERGENCY       EMERGENCY ROOM ADMIT   \n",
       "481                  NaN       ELECTIVE  PHYS REFERRAL/NORMAL DELI   \n",
       "549                  NaN       ELECTIVE  PHYS REFERRAL/NORMAL DELI   \n",
       "582                  NaN      EMERGENCY  TRANSFER FROM HOSP/EXTRAM   \n",
       "597                  NaN      EMERGENCY       EMERGENCY ROOM ADMIT   \n",
       "635                  NaN      EMERGENCY       EMERGENCY ROOM ADMIT   \n",
       "692  2197-07-31 01:10:00      EMERGENCY       EMERGENCY ROOM ADMIT   \n",
       "719                  NaN      EMERGENCY  PHYS REFERRAL/NORMAL DELI   \n",
       "721                  NaN      EMERGENCY       EMERGENCY ROOM ADMIT   \n",
       "781                  NaN       ELECTIVE  PHYS REFERRAL/NORMAL DELI   \n",
       "797                  NaN      EMERGENCY       EMERGENCY ROOM ADMIT   \n",
       "803                  NaN      EMERGENCY       EMERGENCY ROOM ADMIT   \n",
       "845                  NaN        NEWBORN  PHYS REFERRAL/NORMAL DELI   \n",
       "\n",
       "            DISCHARGE_LOCATION   INSURANCE LANGUAGE                RELIGION  \\\n",
       "69                         SNF    Medicare      NaN                  JEWISH   \n",
       "87                        HOME     Private      NaN                   OTHER   \n",
       "143           HOME HEALTH CARE     Private      NaN       PROTESTANT QUAKER   \n",
       "231                       HOME  Government     ENGL            UNOBTAINABLE   \n",
       "261        SHORT TERM HOSPITAL    Medicare      NaN                CATHOLIC   \n",
       "272                       HOME     Private      NaN                CATHOLIC   \n",
       "298           HOME HEALTH CARE    Medicare      NaN                CATHOLIC   \n",
       "368                       HOME    Medicaid     ENGL       PROTESTANT QUAKER   \n",
       "481                       HOME    Medicare      NaN                CATHOLIC   \n",
       "549           HOME HEALTH CARE    Medicare      NaN           NOT SPECIFIED   \n",
       "582   REHAB/DISTINCT PART HOSP    Medicare      NaN                CATHOLIC   \n",
       "597           HOME HEALTH CARE    Medicare     RUSS  UNITARIAN-UNIVERSALIST   \n",
       "635  LEFT AGAINST MEDICAL ADVI    Medicaid      NaN           NOT SPECIFIED   \n",
       "692               DEAD/EXPIRED    Medicare      NaN                  JEWISH   \n",
       "719                       HOME  Government      NaN           NOT SPECIFIED   \n",
       "721   REHAB/DISTINCT PART HOSP    Medicare      NaN                CATHOLIC   \n",
       "781                       HOME     Private      NaN                CATHOLIC   \n",
       "797           HOME HEALTH CARE    Medicare     ENGL                CATHOLIC   \n",
       "803           HOME HEALTH CARE    Medicare      NaN           NOT SPECIFIED   \n",
       "845                       HOME     Private      NaN                   OTHER   \n",
       "\n",
       "    MARITAL_STATUS               ETHNICITY            EDREGTIME  \\\n",
       "69          SINGLE                   WHITE                  NaN   \n",
       "87         MARRIED                   WHITE                  NaN   \n",
       "143       DIVORCED                   WHITE                  NaN   \n",
       "231         SINGLE                   ASIAN                  NaN   \n",
       "261        WIDOWED                   WHITE  2115-05-17 13:40:00   \n",
       "272         SINGLE                   WHITE                  NaN   \n",
       "298      SEPARATED                   WHITE  2145-04-07 01:49:00   \n",
       "368         SINGLE  BLACK/AFRICAN AMERICAN  2150-11-11 17:47:00   \n",
       "481        MARRIED                   WHITE                  NaN   \n",
       "549        MARRIED                   WHITE                  NaN   \n",
       "582        WIDOWED                   WHITE                  NaN   \n",
       "597         SINGLE                   WHITE  2140-09-29 02:26:00   \n",
       "635         SINGLE                   WHITE  2109-08-11 21:28:00   \n",
       "692        WIDOWED   UNKNOWN/NOT SPECIFIED  2197-07-31 11:31:00   \n",
       "719            NaN                   OTHER                  NaN   \n",
       "721        MARRIED                   WHITE  2126-03-18 20:33:00   \n",
       "781        MARRIED                   WHITE                  NaN   \n",
       "797         SINGLE                   WHITE  2115-08-26 15:56:00   \n",
       "803        MARRIED                   ASIAN  2130-05-18 03:11:00   \n",
       "845            NaN                   WHITE                  NaN   \n",
       "\n",
       "               EDOUTTIME                                       DIAGNOSIS  \\\n",
       "69                   NaN                               INCISIONAL HERNIA   \n",
       "87                   NaN                       MEDIAL PARIETAL TUMOR/SDA   \n",
       "143                  NaN                         THORACIC MYELOPATHY/SDA   \n",
       "231                  NaN                                         NEWBORN   \n",
       "261  2115-05-17 22:37:00                                        ACUTE MI   \n",
       "272                  NaN                   ABDOMINAL AORTIC ANEURYSM/SDA   \n",
       "298  2145-04-07 04:32:00                                 LT LEG ISCHEMIA   \n",
       "368  2150-11-11 22:25:00                                    UNRESPONSIVE   \n",
       "481                  NaN                                    ANEURYSM/SDA   \n",
       "549                  NaN                   ABDOMINAL AORTIC ANEURYSM/SDA   \n",
       "582                  NaN                             INFECTED RIGHT FOOT   \n",
       "597  2140-09-29 13:51:00                         SMALL BOWEL OBSTRUCTION   \n",
       "635  2109-08-12 00:35:00                             DEXTROMETHORPHAN OD   \n",
       "692  2197-07-31 14:35:00                            RESPIRATORY DISTRESS   \n",
       "719                  NaN                              HYPERBILIRUBINEMIA   \n",
       "721  2126-03-18 23:00:00  BRONCHIAL LAVAGE/SPINAL DETRUSOR HYPERREFLEXIA   \n",
       "781                  NaN                                 CLOTACATION/SDA   \n",
       "797  2115-08-27 16:24:00                               SEIZURE;TELEMETRY   \n",
       "803  2130-05-18 12:26:00                             HYPOTHERMIA/SEIZURE   \n",
       "845                  NaN                                         NEWBORN   \n",
       "\n",
       "     HOSPITAL_EXPIRE_FLAG  HAS_CHARTEVENTS_DATA  \n",
       "69                      0                     0  \n",
       "87                      0                     0  \n",
       "143                     0                     0  \n",
       "231                     0                     0  \n",
       "261                     0                     0  \n",
       "272                     0                     0  \n",
       "298                     0                     0  \n",
       "368                     0                     0  \n",
       "481                     0                     0  \n",
       "549                     0                     0  \n",
       "582                     0                     0  \n",
       "597                     0                     0  \n",
       "635                     0                     0  \n",
       "692                     1                     0  \n",
       "719                     0                     0  \n",
       "721                     0                     0  \n",
       "781                     0                     0  \n",
       "797                     0                     0  \n",
       "803                     0                     0  \n",
       "845                     0                     0  "
      ]
     },
     "execution_count": 62,
     "metadata": {},
     "output_type": "execute_result"
    }
   ],
   "source": [
    "## let's see if anything abnormal about that data\n",
    "admissions[admissions['HAS_CHARTEVENTS_DATA'] == 0].head(20)"
   ]
  },
  {
   "cell_type": "code",
   "execution_count": null,
   "metadata": {
    "collapsed": false
   },
   "outputs": [],
   "source": []
  },
  {
   "cell_type": "code",
   "execution_count": null,
   "metadata": {
    "collapsed": true
   },
   "outputs": [],
   "source": []
  }
 ],
 "metadata": {
  "kernelspec": {
   "display_name": "Python [Root]",
   "language": "python",
   "name": "Python [Root]"
  },
  "language_info": {
   "codemirror_mode": {
    "name": "ipython",
    "version": 2
   },
   "file_extension": ".py",
   "mimetype": "text/x-python",
   "name": "python",
   "nbconvert_exporter": "python",
   "pygments_lexer": "ipython2",
   "version": "2.7.12"
  }
 },
 "nbformat": 4,
 "nbformat_minor": 0
}
